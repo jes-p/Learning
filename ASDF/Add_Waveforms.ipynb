{
 "cells": [
  {
   "cell_type": "markdown",
   "metadata": {},
   "source": [
    "# Add Waveforms\n",
    "Here we combine the experiment-specific stationXML file created in GLNN_StationXML.ipynb with the recorded AE waveforms from TranAX in a tpc5 file to initialize the experiment ASDF file.\n",
    "\n",
    "ElSys has provided a module tpc5.py __[available on their website](https://www.elsys-instruments.com/en/support/tpc5_fileformat.php)__ for easy interpretation."
   ]
  },
  {
   "cell_type": "code",
   "execution_count": 1,
   "metadata": {},
   "outputs": [
    {
     "name": "stderr",
     "output_type": "stream",
     "text": [
      "/home/jes-lab/anaconda3/envs/obspy/lib/python3.6/site-packages/h5py/__init__.py:36: FutureWarning: Conversion of the second argument of issubdtype from `float` to `np.floating` is deprecated. In future, it will be treated as `np.float64 == np.dtype(float).type`.\n",
      "  from ._conv import register_converters as _register_converters\n"
     ]
    }
   ],
   "source": [
    "import tpc5 # get from ElSys, see link above\n",
    "import h5py\n",
    "import numpy as np\n",
    "import pyasdf\n",
    "from obspy import Stream, Trace\n",
    "from obspy.core.util import AttribDict\n",
    "from obspy.core import Stats\n",
    "import obspy"
   ]
  },
  {
   "cell_type": "markdown",
   "metadata": {},
   "source": [
    "First set up the ASDF dataset to fill"
   ]
  },
  {
   "cell_type": "code",
   "execution_count": 2,
   "metadata": {},
   "outputs": [],
   "source": [
    "ds = pyasdf.ASDFDataSet('020918_shear/020918ASDF.h5', compression='gzip-3')\n",
    "ds.add_stationxml('020918_shear/GLNNstations_020918.xml')"
   ]
  },
  {
   "cell_type": "code",
   "execution_count": 3,
   "metadata": {
    "scrolled": true
   },
   "outputs": [
    {
     "data": {
      "text/plain": [
       "['L0.AE09',\n",
       " 'L0.AE11',\n",
       " 'L0.AE16',\n",
       " 'L0.AE17',\n",
       " 'L0.AE18',\n",
       " 'L0.AE21',\n",
       " 'L0.AE22',\n",
       " 'L0.AE23',\n",
       " 'L0.AE27',\n",
       " 'L0.AE28',\n",
       " 'L0.AE32',\n",
       " 'L0.AE33',\n",
       " 'L0.AE35',\n",
       " 'L0.AE38',\n",
       " 'L0.AE41',\n",
       " 'L0.AE43']"
      ]
     },
     "execution_count": 3,
     "metadata": {},
     "output_type": "execute_result"
    }
   ],
   "source": [
    "ds.waveforms.list()"
   ]
  },
  {
   "cell_type": "code",
   "execution_count": 6,
   "metadata": {},
   "outputs": [
    {
     "data": {
      "text/plain": [
       "Station AE09 (BP3)\n",
       "\tStation Code: AE09\n",
       "\tChannel Count: 1/None (Selected/Total)\n",
       "\tNone - \n",
       "\tAccess: None \n",
       "\tLatitude: 37.87, Longitude: -122.26, Elevation: 100.0 m\n",
       "\tAvailable Channels:\n",
       "\t\tAE09.00.FHZ"
      ]
     },
     "execution_count": 6,
     "metadata": {},
     "output_type": "execute_result"
    }
   ],
   "source": [
    "ds.waveforms.L0_AE09.StationXML.networks[0].stations[0]\n",
    "# ASDF appears to dump the extra attribute of the StationXML\n",
    "# Add the (x,y) locations as auxiliary data instead"
   ]
  },
  {
   "cell_type": "markdown",
   "metadata": {},
   "source": [
    "The stations are ordered as A1-D4 in the original StationXML but get re-sorted to increasing station codes when imported to ASDF. The ASDF format also drops the .extra attribute from the StationXML, which contained my local_location information. I need to temporarily access the StationXML outside of ASDF to bring back this lost information."
   ]
  },
  {
   "cell_type": "code",
   "execution_count": 34,
   "metadata": {},
   "outputs": [],
   "source": [
    "inv = obspy.read_inventory('020918_shear/GLNNstations_020918.xml', format='stationxml')\n",
    "ordered_stations = [inv[0].stations[i].code for i in range(16)]\n",
    "ordered_locations = [(float(inv[0].stations[i].extra.local_location.value['x'].value),\n",
    "                      float(inv[0].stations[i].extra.local_location.value['y'].value),\n",
    "                      float(inv[0].stations[i].extra.local_location.value['z'].value))\n",
    "                     for i in range(16)]\n"
   ]
  },
  {
   "cell_type": "markdown",
   "metadata": {},
   "source": [
    "These bits of extra info are great candidates for ASDF auxiliary data."
   ]
  },
  {
   "cell_type": "code",
   "execution_count": 22,
   "metadata": {
    "scrolled": true
   },
   "outputs": [
    {
     "data": {
      "text/plain": [
       "[(27.45232, 19.05, 0.0),\n",
       " (41.447720000000004, 19.05, 0.0),\n",
       " (34.46272, 19.05, 0.0),\n",
       " (30.957520000000002, 19.05, 0.0),\n",
       " (19.558, 16.002, 0.0),\n",
       " (20.44192, 19.05, 0.0),\n",
       " (34.29, 26.162000000000003, 0.0),\n",
       " (37.846000000000004, 22.352000000000004, 0.0),\n",
       " (30.957520000000002, 22.555200000000003, 0.0),\n",
       " (26.46172, 23.368, 0.0),\n",
       " (23.876, 22.352000000000004, 0.0),\n",
       " (13.43152, 19.05, 0.0),\n",
       " (35.45332, 14.732, 0.0),\n",
       " (30.957520000000002, 15.5448, 0.0),\n",
       " (9.9568, 19.05, 0.0),\n",
       " (23.876, 15.748000000000001, 0.0)]"
      ]
     },
     "execution_count": 22,
     "metadata": {},
     "output_type": "execute_result"
    }
   ],
   "source": [
    "ordered_locations"
   ]
  },
  {
   "cell_type": "code",
   "execution_count": 44,
   "metadata": {},
   "outputs": [
    {
     "data": {
      "text/plain": [
       "array([b'AE27', b'AE09', b'AE17', b'AE22', b'AE38', b'AE35', b'AE18',\n",
       "       b'AE11', b'AE21', b'AE28', b'AE32', b'AE41', b'AE16', b'AE23',\n",
       "       b'AE43', b'AE33'], dtype='|S4')"
      ]
     },
     "execution_count": 44,
     "metadata": {},
     "output_type": "execute_result"
    }
   ],
   "source": [
    "np.array([s.encode('utf8') for s in ordered_stations])\n",
    "# h5 files can't handle the numpy unicode datatype, this is a workaround"
   ]
  },
  {
   "cell_type": "code",
   "execution_count": 41,
   "metadata": {},
   "outputs": [],
   "source": [
    "ds.add_auxiliary_data(data=np.array(ordered_locations),\n",
    "                      data_type='LabStationInfo',\n",
    "                      path='local_locations',\n",
    "                      parameters={})\n",
    "ds.add_auxiliary_data(data=np.array([s.encode('utf8') for s in ordered_stations]),\n",
    "                      data_type='LabStationInfo',\n",
    "                      path='ordered_stations',\n",
    "                      parameters={})"
   ]
  },
  {
   "cell_type": "code",
   "execution_count": 60,
   "metadata": {
    "collapsed": true
   },
   "outputs": [
    {
     "data": {
      "text/plain": [
       "array([[27.45232, 19.05   ,  0.     ],\n",
       "       [41.44772, 19.05   ,  0.     ],\n",
       "       [34.46272, 19.05   ,  0.     ],\n",
       "       [30.95752, 19.05   ,  0.     ],\n",
       "       [19.558  , 16.002  ,  0.     ],\n",
       "       [20.44192, 19.05   ,  0.     ],\n",
       "       [34.29   , 26.162  ,  0.     ],\n",
       "       [37.846  , 22.352  ,  0.     ],\n",
       "       [30.95752, 22.5552 ,  0.     ],\n",
       "       [26.46172, 23.368  ,  0.     ],\n",
       "       [23.876  , 22.352  ,  0.     ],\n",
       "       [13.43152, 19.05   ,  0.     ],\n",
       "       [35.45332, 14.732  ,  0.     ],\n",
       "       [30.95752, 15.5448 ,  0.     ],\n",
       "       [ 9.9568 , 19.05   ,  0.     ],\n",
       "       [23.876  , 15.748  ,  0.     ]])"
      ]
     },
     "execution_count": 60,
     "metadata": {},
     "output_type": "execute_result"
    }
   ],
   "source": [
    "ds.auxiliary_data.LabStationInfo.local_locations.data[:]"
   ]
  },
  {
   "cell_type": "markdown",
   "metadata": {},
   "source": [
    "Now on to importing the waveforms. An experiment might be made up of multiple files. Display the tpc5 files present in the experiment folder:"
   ]
  },
  {
   "cell_type": "code",
   "execution_count": 3,
   "metadata": {},
   "outputs": [
    {
     "name": "stdout",
     "output_type": "stream",
     "text": [
      "020918_shear/bd1.tpc5  020918_shear/run.tpc5\r\n",
      "020918_shear/bd2.tpc5  020918_shear/timing.tpc5\r\n"
     ]
    }
   ],
   "source": [
    "!ls 020918_shear/*.tpc5"
   ]
  },
  {
   "cell_type": "markdown",
   "metadata": {},
   "source": [
    "This experiment had two ball drops (bd1, bd2), a timing alignment signal (timing), and the full shear run (run). I'll start with the first ball drop."
   ]
  },
  {
   "cell_type": "code",
   "execution_count": 61,
   "metadata": {},
   "outputs": [],
   "source": [
    "f = h5py.File(\"020918_shear/run.tpc5\", \"r\")"
   ]
  },
  {
   "cell_type": "code",
   "execution_count": 62,
   "metadata": {},
   "outputs": [],
   "source": [
    "# we need to know how many blocks to read\n",
    "# all channels have the same number of blocks, use channel 1\n",
    "cg = f[tpc5.getChannelGroupName(1)]\n",
    "nblocks = len(cg['blocks'].keys())"
   ]
  },
  {
   "cell_type": "code",
   "execution_count": 135,
   "metadata": {},
   "outputs": [
    {
     "name": "stderr",
     "output_type": "stream",
     "text": [
      "/home/jes-lab/anaconda3/envs/obspy/lib/python3.6/site-packages/pyasdf/asdf_data_set.py:51: ASDFWarning: Data 'L0.AE27/L0.AE27.00.FHZ__2018-02-09T22:36:00__2018-02-09T22:36:01__raw_record' already exists in file. Will not be added!\n",
      "  closure_warn(self, *args, **kwargs)\n",
      "/home/jes-lab/anaconda3/envs/obspy/lib/python3.6/site-packages/pyasdf/asdf_data_set.py:51: ASDFWarning: Data 'L0.AE27/L0.AE27.00.FHZ__2018-02-09T22:36:01__2018-02-09T22:36:01__raw_record' already exists in file. Will not be added!\n",
      "  closure_warn(self, *args, **kwargs)\n",
      "/home/jes-lab/anaconda3/envs/obspy/lib/python3.6/site-packages/pyasdf/asdf_data_set.py:51: ASDFWarning: Data 'L0.AE27/L0.AE27.00.FHZ__2018-02-09T22:36:01__2018-02-09T22:36:01__raw_record' already exists in file. Will not be added!\n",
      "  closure_warn(self, *args, **kwargs)\n",
      "/home/jes-lab/anaconda3/envs/obspy/lib/python3.6/site-packages/pyasdf/asdf_data_set.py:51: ASDFWarning: Data 'L0.AE27/L0.AE27.00.FHZ__2018-02-09T22:36:01__2018-02-09T22:36:01__raw_record' already exists in file. Will not be added!\n",
      "  closure_warn(self, *args, **kwargs)\n",
      "/home/jes-lab/anaconda3/envs/obspy/lib/python3.6/site-packages/pyasdf/asdf_data_set.py:51: ASDFWarning: Data 'L0.AE27/L0.AE27.00.FHZ__2018-02-09T22:36:01__2018-02-09T22:36:01__raw_record' already exists in file. Will not be added!\n",
      "  closure_warn(self, *args, **kwargs)\n",
      "/home/jes-lab/anaconda3/envs/obspy/lib/python3.6/site-packages/pyasdf/asdf_data_set.py:51: ASDFWarning: Data 'L0.AE27/L0.AE27.00.FHZ__2018-02-09T22:36:01__2018-02-09T22:36:01__raw_record' already exists in file. Will not be added!\n",
      "  closure_warn(self, *args, **kwargs)\n",
      "/home/jes-lab/anaconda3/envs/obspy/lib/python3.6/site-packages/pyasdf/asdf_data_set.py:51: ASDFWarning: Data 'L0.AE27/L0.AE27.00.FHZ__2018-02-09T22:46:00__2018-02-09T22:46:00__raw_record' already exists in file. Will not be added!\n",
      "  closure_warn(self, *args, **kwargs)\n",
      "/home/jes-lab/anaconda3/envs/obspy/lib/python3.6/site-packages/pyasdf/asdf_data_set.py:51: ASDFWarning: Data 'L0.AE27/L0.AE27.00.FHZ__2018-02-09T22:46:00__2018-02-09T22:46:00__raw_record' already exists in file. Will not be added!\n",
      "  closure_warn(self, *args, **kwargs)\n",
      "/home/jes-lab/anaconda3/envs/obspy/lib/python3.6/site-packages/pyasdf/asdf_data_set.py:51: ASDFWarning: Data 'L0.AE27/L0.AE27.00.FHZ__2018-02-09T22:46:00__2018-02-09T22:46:00__raw_record' already exists in file. Will not be added!\n",
      "  closure_warn(self, *args, **kwargs)\n",
      "/home/jes-lab/anaconda3/envs/obspy/lib/python3.6/site-packages/pyasdf/asdf_data_set.py:51: ASDFWarning: Data 'L0.AE27/L0.AE27.00.FHZ__2018-02-09T22:50:13__2018-02-09T22:50:13__raw_record' already exists in file. Will not be added!\n",
      "  closure_warn(self, *args, **kwargs)\n",
      "/home/jes-lab/anaconda3/envs/obspy/lib/python3.6/site-packages/pyasdf/asdf_data_set.py:51: ASDFWarning: Data 'L0.AE27/L0.AE27.00.FHZ__2018-02-09T22:50:13__2018-02-09T22:50:13__raw_record' already exists in file. Will not be added!\n",
      "  closure_warn(self, *args, **kwargs)\n",
      "/home/jes-lab/anaconda3/envs/obspy/lib/python3.6/site-packages/pyasdf/asdf_data_set.py:51: ASDFWarning: Data 'L0.AE27/L0.AE27.00.FHZ__2018-02-09T22:50:15__2018-02-09T22:50:15__raw_record' already exists in file. Will not be added!\n",
      "  closure_warn(self, *args, **kwargs)\n",
      "/home/jes-lab/anaconda3/envs/obspy/lib/python3.6/site-packages/pyasdf/asdf_data_set.py:51: ASDFWarning: Data 'L0.AE27/L0.AE27.00.FHZ__2018-02-09T22:50:16__2018-02-09T22:50:16__raw_record' already exists in file. Will not be added!\n",
      "  closure_warn(self, *args, **kwargs)\n",
      "/home/jes-lab/anaconda3/envs/obspy/lib/python3.6/site-packages/pyasdf/asdf_data_set.py:51: ASDFWarning: Data 'L0.AE27/L0.AE27.00.FHZ__2018-02-09T22:50:16__2018-02-09T22:50:16__raw_record' already exists in file. Will not be added!\n",
      "  closure_warn(self, *args, **kwargs)\n",
      "/home/jes-lab/anaconda3/envs/obspy/lib/python3.6/site-packages/pyasdf/asdf_data_set.py:51: ASDFWarning: Data 'L0.AE27/L0.AE27.00.FHZ__2018-02-09T22:50:17__2018-02-09T22:50:17__raw_record' already exists in file. Will not be added!\n",
      "  closure_warn(self, *args, **kwargs)\n",
      "/home/jes-lab/anaconda3/envs/obspy/lib/python3.6/site-packages/pyasdf/asdf_data_set.py:51: ASDFWarning: Data 'L0.AE27/L0.AE27.00.FHZ__2018-02-09T22:50:17__2018-02-09T22:50:17__raw_record' already exists in file. Will not be added!\n",
      "  closure_warn(self, *args, **kwargs)\n",
      "/home/jes-lab/anaconda3/envs/obspy/lib/python3.6/site-packages/pyasdf/asdf_data_set.py:51: ASDFWarning: Data 'L0.AE27/L0.AE27.00.FHZ__2018-02-09T22:50:17__2018-02-09T22:50:17__raw_record' already exists in file. Will not be added!\n",
      "  closure_warn(self, *args, **kwargs)\n",
      "/home/jes-lab/anaconda3/envs/obspy/lib/python3.6/site-packages/pyasdf/asdf_data_set.py:51: ASDFWarning: Data 'L0.AE27/L0.AE27.00.FHZ__2018-02-09T22:50:17__2018-02-09T22:50:17__raw_record' already exists in file. Will not be added!\n",
      "  closure_warn(self, *args, **kwargs)\n",
      "/home/jes-lab/anaconda3/envs/obspy/lib/python3.6/site-packages/pyasdf/asdf_data_set.py:51: ASDFWarning: Data 'L0.AE27/L0.AE27.00.FHZ__2018-02-09T22:50:17__2018-02-09T22:50:17__raw_record' already exists in file. Will not be added!\n",
      "  closure_warn(self, *args, **kwargs)\n",
      "/home/jes-lab/anaconda3/envs/obspy/lib/python3.6/site-packages/pyasdf/asdf_data_set.py:51: ASDFWarning: Data 'L0.AE09/L0.AE09.00.FHZ__2018-02-09T22:36:00__2018-02-09T22:36:01__raw_record' already exists in file. Will not be added!\n",
      "  closure_warn(self, *args, **kwargs)\n",
      "/home/jes-lab/anaconda3/envs/obspy/lib/python3.6/site-packages/pyasdf/asdf_data_set.py:51: ASDFWarning: Data 'L0.AE09/L0.AE09.00.FHZ__2018-02-09T22:36:01__2018-02-09T22:36:01__raw_record' already exists in file. Will not be added!\n",
      "  closure_warn(self, *args, **kwargs)\n",
      "/home/jes-lab/anaconda3/envs/obspy/lib/python3.6/site-packages/pyasdf/asdf_data_set.py:51: ASDFWarning: Data 'L0.AE09/L0.AE09.00.FHZ__2018-02-09T22:36:01__2018-02-09T22:36:01__raw_record' already exists in file. Will not be added!\n",
      "  closure_warn(self, *args, **kwargs)\n",
      "/home/jes-lab/anaconda3/envs/obspy/lib/python3.6/site-packages/pyasdf/asdf_data_set.py:51: ASDFWarning: Data 'L0.AE09/L0.AE09.00.FHZ__2018-02-09T22:36:01__2018-02-09T22:36:01__raw_record' already exists in file. Will not be added!\n",
      "  closure_warn(self, *args, **kwargs)\n",
      "/home/jes-lab/anaconda3/envs/obspy/lib/python3.6/site-packages/pyasdf/asdf_data_set.py:51: ASDFWarning: Data 'L0.AE09/L0.AE09.00.FHZ__2018-02-09T22:36:01__2018-02-09T22:36:01__raw_record' already exists in file. Will not be added!\n",
      "  closure_warn(self, *args, **kwargs)\n",
      "/home/jes-lab/anaconda3/envs/obspy/lib/python3.6/site-packages/pyasdf/asdf_data_set.py:51: ASDFWarning: Data 'L0.AE09/L0.AE09.00.FHZ__2018-02-09T22:36:01__2018-02-09T22:36:01__raw_record' already exists in file. Will not be added!\n",
      "  closure_warn(self, *args, **kwargs)\n",
      "/home/jes-lab/anaconda3/envs/obspy/lib/python3.6/site-packages/pyasdf/asdf_data_set.py:51: ASDFWarning: Data 'L0.AE09/L0.AE09.00.FHZ__2018-02-09T22:46:00__2018-02-09T22:46:00__raw_record' already exists in file. Will not be added!\n",
      "  closure_warn(self, *args, **kwargs)\n",
      "/home/jes-lab/anaconda3/envs/obspy/lib/python3.6/site-packages/pyasdf/asdf_data_set.py:51: ASDFWarning: Data 'L0.AE09/L0.AE09.00.FHZ__2018-02-09T22:46:00__2018-02-09T22:46:00__raw_record' already exists in file. Will not be added!\n",
      "  closure_warn(self, *args, **kwargs)\n",
      "/home/jes-lab/anaconda3/envs/obspy/lib/python3.6/site-packages/pyasdf/asdf_data_set.py:51: ASDFWarning: Data 'L0.AE09/L0.AE09.00.FHZ__2018-02-09T22:46:00__2018-02-09T22:46:00__raw_record' already exists in file. Will not be added!\n",
      "  closure_warn(self, *args, **kwargs)\n",
      "/home/jes-lab/anaconda3/envs/obspy/lib/python3.6/site-packages/pyasdf/asdf_data_set.py:51: ASDFWarning: Data 'L0.AE09/L0.AE09.00.FHZ__2018-02-09T22:50:13__2018-02-09T22:50:13__raw_record' already exists in file. Will not be added!\n",
      "  closure_warn(self, *args, **kwargs)\n",
      "/home/jes-lab/anaconda3/envs/obspy/lib/python3.6/site-packages/pyasdf/asdf_data_set.py:51: ASDFWarning: Data 'L0.AE09/L0.AE09.00.FHZ__2018-02-09T22:50:13__2018-02-09T22:50:13__raw_record' already exists in file. Will not be added!\n",
      "  closure_warn(self, *args, **kwargs)\n",
      "/home/jes-lab/anaconda3/envs/obspy/lib/python3.6/site-packages/pyasdf/asdf_data_set.py:51: ASDFWarning: Data 'L0.AE09/L0.AE09.00.FHZ__2018-02-09T22:50:15__2018-02-09T22:50:15__raw_record' already exists in file. Will not be added!\n",
      "  closure_warn(self, *args, **kwargs)\n"
     ]
    },
    {
     "name": "stderr",
     "output_type": "stream",
     "text": [
      "/home/jes-lab/anaconda3/envs/obspy/lib/python3.6/site-packages/pyasdf/asdf_data_set.py:51: ASDFWarning: Data 'L0.AE09/L0.AE09.00.FHZ__2018-02-09T22:50:16__2018-02-09T22:50:16__raw_record' already exists in file. Will not be added!\n",
      "  closure_warn(self, *args, **kwargs)\n",
      "/home/jes-lab/anaconda3/envs/obspy/lib/python3.6/site-packages/pyasdf/asdf_data_set.py:51: ASDFWarning: Data 'L0.AE09/L0.AE09.00.FHZ__2018-02-09T22:50:16__2018-02-09T22:50:16__raw_record' already exists in file. Will not be added!\n",
      "  closure_warn(self, *args, **kwargs)\n",
      "/home/jes-lab/anaconda3/envs/obspy/lib/python3.6/site-packages/pyasdf/asdf_data_set.py:51: ASDFWarning: Data 'L0.AE09/L0.AE09.00.FHZ__2018-02-09T22:50:17__2018-02-09T22:50:17__raw_record' already exists in file. Will not be added!\n",
      "  closure_warn(self, *args, **kwargs)\n",
      "/home/jes-lab/anaconda3/envs/obspy/lib/python3.6/site-packages/pyasdf/asdf_data_set.py:51: ASDFWarning: Data 'L0.AE09/L0.AE09.00.FHZ__2018-02-09T22:50:17__2018-02-09T22:50:17__raw_record' already exists in file. Will not be added!\n",
      "  closure_warn(self, *args, **kwargs)\n",
      "/home/jes-lab/anaconda3/envs/obspy/lib/python3.6/site-packages/pyasdf/asdf_data_set.py:51: ASDFWarning: Data 'L0.AE09/L0.AE09.00.FHZ__2018-02-09T22:50:17__2018-02-09T22:50:17__raw_record' already exists in file. Will not be added!\n",
      "  closure_warn(self, *args, **kwargs)\n",
      "/home/jes-lab/anaconda3/envs/obspy/lib/python3.6/site-packages/pyasdf/asdf_data_set.py:51: ASDFWarning: Data 'L0.AE09/L0.AE09.00.FHZ__2018-02-09T22:50:17__2018-02-09T22:50:17__raw_record' already exists in file. Will not be added!\n",
      "  closure_warn(self, *args, **kwargs)\n",
      "/home/jes-lab/anaconda3/envs/obspy/lib/python3.6/site-packages/pyasdf/asdf_data_set.py:51: ASDFWarning: Data 'L0.AE09/L0.AE09.00.FHZ__2018-02-09T22:50:17__2018-02-09T22:50:17__raw_record' already exists in file. Will not be added!\n",
      "  closure_warn(self, *args, **kwargs)\n",
      "/home/jes-lab/anaconda3/envs/obspy/lib/python3.6/site-packages/pyasdf/asdf_data_set.py:51: ASDFWarning: Data 'L0.AE17/L0.AE17.00.FHZ__2018-02-09T22:36:00__2018-02-09T22:36:01__raw_record' already exists in file. Will not be added!\n",
      "  closure_warn(self, *args, **kwargs)\n",
      "/home/jes-lab/anaconda3/envs/obspy/lib/python3.6/site-packages/pyasdf/asdf_data_set.py:51: ASDFWarning: Data 'L0.AE17/L0.AE17.00.FHZ__2018-02-09T22:36:01__2018-02-09T22:36:01__raw_record' already exists in file. Will not be added!\n",
      "  closure_warn(self, *args, **kwargs)\n",
      "/home/jes-lab/anaconda3/envs/obspy/lib/python3.6/site-packages/pyasdf/asdf_data_set.py:51: ASDFWarning: Data 'L0.AE17/L0.AE17.00.FHZ__2018-02-09T22:36:01__2018-02-09T22:36:01__raw_record' already exists in file. Will not be added!\n",
      "  closure_warn(self, *args, **kwargs)\n",
      "/home/jes-lab/anaconda3/envs/obspy/lib/python3.6/site-packages/pyasdf/asdf_data_set.py:51: ASDFWarning: Data 'L0.AE17/L0.AE17.00.FHZ__2018-02-09T22:36:01__2018-02-09T22:36:01__raw_record' already exists in file. Will not be added!\n",
      "  closure_warn(self, *args, **kwargs)\n",
      "/home/jes-lab/anaconda3/envs/obspy/lib/python3.6/site-packages/pyasdf/asdf_data_set.py:51: ASDFWarning: Data 'L0.AE17/L0.AE17.00.FHZ__2018-02-09T22:36:01__2018-02-09T22:36:01__raw_record' already exists in file. Will not be added!\n",
      "  closure_warn(self, *args, **kwargs)\n",
      "/home/jes-lab/anaconda3/envs/obspy/lib/python3.6/site-packages/pyasdf/asdf_data_set.py:51: ASDFWarning: Data 'L0.AE17/L0.AE17.00.FHZ__2018-02-09T22:36:01__2018-02-09T22:36:01__raw_record' already exists in file. Will not be added!\n",
      "  closure_warn(self, *args, **kwargs)\n",
      "/home/jes-lab/anaconda3/envs/obspy/lib/python3.6/site-packages/pyasdf/asdf_data_set.py:51: ASDFWarning: Data 'L0.AE17/L0.AE17.00.FHZ__2018-02-09T22:46:00__2018-02-09T22:46:00__raw_record' already exists in file. Will not be added!\n",
      "  closure_warn(self, *args, **kwargs)\n",
      "/home/jes-lab/anaconda3/envs/obspy/lib/python3.6/site-packages/pyasdf/asdf_data_set.py:51: ASDFWarning: Data 'L0.AE17/L0.AE17.00.FHZ__2018-02-09T22:46:00__2018-02-09T22:46:00__raw_record' already exists in file. Will not be added!\n",
      "  closure_warn(self, *args, **kwargs)\n",
      "/home/jes-lab/anaconda3/envs/obspy/lib/python3.6/site-packages/pyasdf/asdf_data_set.py:51: ASDFWarning: Data 'L0.AE17/L0.AE17.00.FHZ__2018-02-09T22:46:00__2018-02-09T22:46:00__raw_record' already exists in file. Will not be added!\n",
      "  closure_warn(self, *args, **kwargs)\n",
      "/home/jes-lab/anaconda3/envs/obspy/lib/python3.6/site-packages/pyasdf/asdf_data_set.py:51: ASDFWarning: Data 'L0.AE17/L0.AE17.00.FHZ__2018-02-09T22:50:13__2018-02-09T22:50:13__raw_record' already exists in file. Will not be added!\n",
      "  closure_warn(self, *args, **kwargs)\n",
      "/home/jes-lab/anaconda3/envs/obspy/lib/python3.6/site-packages/pyasdf/asdf_data_set.py:51: ASDFWarning: Data 'L0.AE17/L0.AE17.00.FHZ__2018-02-09T22:50:13__2018-02-09T22:50:13__raw_record' already exists in file. Will not be added!\n",
      "  closure_warn(self, *args, **kwargs)\n",
      "/home/jes-lab/anaconda3/envs/obspy/lib/python3.6/site-packages/pyasdf/asdf_data_set.py:51: ASDFWarning: Data 'L0.AE17/L0.AE17.00.FHZ__2018-02-09T22:50:15__2018-02-09T22:50:15__raw_record' already exists in file. Will not be added!\n",
      "  closure_warn(self, *args, **kwargs)\n",
      "/home/jes-lab/anaconda3/envs/obspy/lib/python3.6/site-packages/pyasdf/asdf_data_set.py:51: ASDFWarning: Data 'L0.AE17/L0.AE17.00.FHZ__2018-02-09T22:50:16__2018-02-09T22:50:16__raw_record' already exists in file. Will not be added!\n",
      "  closure_warn(self, *args, **kwargs)\n",
      "/home/jes-lab/anaconda3/envs/obspy/lib/python3.6/site-packages/pyasdf/asdf_data_set.py:51: ASDFWarning: Data 'L0.AE17/L0.AE17.00.FHZ__2018-02-09T22:50:16__2018-02-09T22:50:16__raw_record' already exists in file. Will not be added!\n",
      "  closure_warn(self, *args, **kwargs)\n",
      "/home/jes-lab/anaconda3/envs/obspy/lib/python3.6/site-packages/pyasdf/asdf_data_set.py:51: ASDFWarning: Data 'L0.AE17/L0.AE17.00.FHZ__2018-02-09T22:50:17__2018-02-09T22:50:17__raw_record' already exists in file. Will not be added!\n",
      "  closure_warn(self, *args, **kwargs)\n",
      "/home/jes-lab/anaconda3/envs/obspy/lib/python3.6/site-packages/pyasdf/asdf_data_set.py:51: ASDFWarning: Data 'L0.AE17/L0.AE17.00.FHZ__2018-02-09T22:50:17__2018-02-09T22:50:17__raw_record' already exists in file. Will not be added!\n",
      "  closure_warn(self, *args, **kwargs)\n",
      "/home/jes-lab/anaconda3/envs/obspy/lib/python3.6/site-packages/pyasdf/asdf_data_set.py:51: ASDFWarning: Data 'L0.AE17/L0.AE17.00.FHZ__2018-02-09T22:50:17__2018-02-09T22:50:17__raw_record' already exists in file. Will not be added!\n",
      "  closure_warn(self, *args, **kwargs)\n",
      "/home/jes-lab/anaconda3/envs/obspy/lib/python3.6/site-packages/pyasdf/asdf_data_set.py:51: ASDFWarning: Data 'L0.AE17/L0.AE17.00.FHZ__2018-02-09T22:50:17__2018-02-09T22:50:17__raw_record' already exists in file. Will not be added!\n",
      "  closure_warn(self, *args, **kwargs)\n",
      "/home/jes-lab/anaconda3/envs/obspy/lib/python3.6/site-packages/pyasdf/asdf_data_set.py:51: ASDFWarning: Data 'L0.AE17/L0.AE17.00.FHZ__2018-02-09T22:50:17__2018-02-09T22:50:17__raw_record' already exists in file. Will not be added!\n",
      "  closure_warn(self, *args, **kwargs)\n",
      "/home/jes-lab/anaconda3/envs/obspy/lib/python3.6/site-packages/pyasdf/asdf_data_set.py:51: ASDFWarning: Data 'L0.AE22/L0.AE22.00.FHZ__2018-02-09T22:36:00__2018-02-09T22:36:01__raw_record' already exists in file. Will not be added!\n",
      "  closure_warn(self, *args, **kwargs)\n",
      "/home/jes-lab/anaconda3/envs/obspy/lib/python3.6/site-packages/pyasdf/asdf_data_set.py:51: ASDFWarning: Data 'L0.AE22/L0.AE22.00.FHZ__2018-02-09T22:36:01__2018-02-09T22:36:01__raw_record' already exists in file. Will not be added!\n",
      "  closure_warn(self, *args, **kwargs)\n",
      "/home/jes-lab/anaconda3/envs/obspy/lib/python3.6/site-packages/pyasdf/asdf_data_set.py:51: ASDFWarning: Data 'L0.AE22/L0.AE22.00.FHZ__2018-02-09T22:36:01__2018-02-09T22:36:01__raw_record' already exists in file. Will not be added!\n",
      "  closure_warn(self, *args, **kwargs)\n",
      "/home/jes-lab/anaconda3/envs/obspy/lib/python3.6/site-packages/pyasdf/asdf_data_set.py:51: ASDFWarning: Data 'L0.AE22/L0.AE22.00.FHZ__2018-02-09T22:36:01__2018-02-09T22:36:01__raw_record' already exists in file. Will not be added!\n",
      "  closure_warn(self, *args, **kwargs)\n",
      "/home/jes-lab/anaconda3/envs/obspy/lib/python3.6/site-packages/pyasdf/asdf_data_set.py:51: ASDFWarning: Data 'L0.AE22/L0.AE22.00.FHZ__2018-02-09T22:36:01__2018-02-09T22:36:01__raw_record' already exists in file. Will not be added!\n",
      "  closure_warn(self, *args, **kwargs)\n"
     ]
    },
    {
     "name": "stderr",
     "output_type": "stream",
     "text": [
      "/home/jes-lab/anaconda3/envs/obspy/lib/python3.6/site-packages/pyasdf/asdf_data_set.py:51: ASDFWarning: Data 'L0.AE22/L0.AE22.00.FHZ__2018-02-09T22:36:01__2018-02-09T22:36:01__raw_record' already exists in file. Will not be added!\n",
      "  closure_warn(self, *args, **kwargs)\n",
      "/home/jes-lab/anaconda3/envs/obspy/lib/python3.6/site-packages/pyasdf/asdf_data_set.py:51: ASDFWarning: Data 'L0.AE22/L0.AE22.00.FHZ__2018-02-09T22:46:00__2018-02-09T22:46:00__raw_record' already exists in file. Will not be added!\n",
      "  closure_warn(self, *args, **kwargs)\n",
      "/home/jes-lab/anaconda3/envs/obspy/lib/python3.6/site-packages/pyasdf/asdf_data_set.py:51: ASDFWarning: Data 'L0.AE22/L0.AE22.00.FHZ__2018-02-09T22:46:00__2018-02-09T22:46:00__raw_record' already exists in file. Will not be added!\n",
      "  closure_warn(self, *args, **kwargs)\n",
      "/home/jes-lab/anaconda3/envs/obspy/lib/python3.6/site-packages/pyasdf/asdf_data_set.py:51: ASDFWarning: Data 'L0.AE22/L0.AE22.00.FHZ__2018-02-09T22:46:00__2018-02-09T22:46:00__raw_record' already exists in file. Will not be added!\n",
      "  closure_warn(self, *args, **kwargs)\n",
      "/home/jes-lab/anaconda3/envs/obspy/lib/python3.6/site-packages/pyasdf/asdf_data_set.py:51: ASDFWarning: Data 'L0.AE22/L0.AE22.00.FHZ__2018-02-09T22:50:13__2018-02-09T22:50:13__raw_record' already exists in file. Will not be added!\n",
      "  closure_warn(self, *args, **kwargs)\n",
      "/home/jes-lab/anaconda3/envs/obspy/lib/python3.6/site-packages/pyasdf/asdf_data_set.py:51: ASDFWarning: Data 'L0.AE22/L0.AE22.00.FHZ__2018-02-09T22:50:13__2018-02-09T22:50:13__raw_record' already exists in file. Will not be added!\n",
      "  closure_warn(self, *args, **kwargs)\n",
      "/home/jes-lab/anaconda3/envs/obspy/lib/python3.6/site-packages/pyasdf/asdf_data_set.py:51: ASDFWarning: Data 'L0.AE22/L0.AE22.00.FHZ__2018-02-09T22:50:15__2018-02-09T22:50:15__raw_record' already exists in file. Will not be added!\n",
      "  closure_warn(self, *args, **kwargs)\n",
      "/home/jes-lab/anaconda3/envs/obspy/lib/python3.6/site-packages/pyasdf/asdf_data_set.py:51: ASDFWarning: Data 'L0.AE22/L0.AE22.00.FHZ__2018-02-09T22:50:16__2018-02-09T22:50:16__raw_record' already exists in file. Will not be added!\n",
      "  closure_warn(self, *args, **kwargs)\n",
      "/home/jes-lab/anaconda3/envs/obspy/lib/python3.6/site-packages/pyasdf/asdf_data_set.py:51: ASDFWarning: Data 'L0.AE22/L0.AE22.00.FHZ__2018-02-09T22:50:16__2018-02-09T22:50:16__raw_record' already exists in file. Will not be added!\n",
      "  closure_warn(self, *args, **kwargs)\n",
      "/home/jes-lab/anaconda3/envs/obspy/lib/python3.6/site-packages/pyasdf/asdf_data_set.py:51: ASDFWarning: Data 'L0.AE22/L0.AE22.00.FHZ__2018-02-09T22:50:17__2018-02-09T22:50:17__raw_record' already exists in file. Will not be added!\n",
      "  closure_warn(self, *args, **kwargs)\n",
      "/home/jes-lab/anaconda3/envs/obspy/lib/python3.6/site-packages/pyasdf/asdf_data_set.py:51: ASDFWarning: Data 'L0.AE22/L0.AE22.00.FHZ__2018-02-09T22:50:17__2018-02-09T22:50:17__raw_record' already exists in file. Will not be added!\n",
      "  closure_warn(self, *args, **kwargs)\n",
      "/home/jes-lab/anaconda3/envs/obspy/lib/python3.6/site-packages/pyasdf/asdf_data_set.py:51: ASDFWarning: Data 'L0.AE22/L0.AE22.00.FHZ__2018-02-09T22:50:17__2018-02-09T22:50:17__raw_record' already exists in file. Will not be added!\n",
      "  closure_warn(self, *args, **kwargs)\n",
      "/home/jes-lab/anaconda3/envs/obspy/lib/python3.6/site-packages/pyasdf/asdf_data_set.py:51: ASDFWarning: Data 'L0.AE22/L0.AE22.00.FHZ__2018-02-09T22:50:17__2018-02-09T22:50:17__raw_record' already exists in file. Will not be added!\n",
      "  closure_warn(self, *args, **kwargs)\n",
      "/home/jes-lab/anaconda3/envs/obspy/lib/python3.6/site-packages/pyasdf/asdf_data_set.py:51: ASDFWarning: Data 'L0.AE22/L0.AE22.00.FHZ__2018-02-09T22:50:17__2018-02-09T22:50:17__raw_record' already exists in file. Will not be added!\n",
      "  closure_warn(self, *args, **kwargs)\n",
      "/home/jes-lab/anaconda3/envs/obspy/lib/python3.6/site-packages/pyasdf/asdf_data_set.py:51: ASDFWarning: Data 'L0.AE38/L0.AE38.00.FHZ__2018-02-09T22:36:00__2018-02-09T22:36:01__raw_record' already exists in file. Will not be added!\n",
      "  closure_warn(self, *args, **kwargs)\n",
      "/home/jes-lab/anaconda3/envs/obspy/lib/python3.6/site-packages/pyasdf/asdf_data_set.py:51: ASDFWarning: Data 'L0.AE38/L0.AE38.00.FHZ__2018-02-09T22:36:01__2018-02-09T22:36:01__raw_record' already exists in file. Will not be added!\n",
      "  closure_warn(self, *args, **kwargs)\n",
      "/home/jes-lab/anaconda3/envs/obspy/lib/python3.6/site-packages/pyasdf/asdf_data_set.py:51: ASDFWarning: Data 'L0.AE38/L0.AE38.00.FHZ__2018-02-09T22:36:01__2018-02-09T22:36:01__raw_record' already exists in file. Will not be added!\n",
      "  closure_warn(self, *args, **kwargs)\n",
      "/home/jes-lab/anaconda3/envs/obspy/lib/python3.6/site-packages/pyasdf/asdf_data_set.py:51: ASDFWarning: Data 'L0.AE38/L0.AE38.00.FHZ__2018-02-09T22:36:01__2018-02-09T22:36:01__raw_record' already exists in file. Will not be added!\n",
      "  closure_warn(self, *args, **kwargs)\n",
      "/home/jes-lab/anaconda3/envs/obspy/lib/python3.6/site-packages/pyasdf/asdf_data_set.py:51: ASDFWarning: Data 'L0.AE38/L0.AE38.00.FHZ__2018-02-09T22:36:01__2018-02-09T22:36:01__raw_record' already exists in file. Will not be added!\n",
      "  closure_warn(self, *args, **kwargs)\n",
      "/home/jes-lab/anaconda3/envs/obspy/lib/python3.6/site-packages/pyasdf/asdf_data_set.py:51: ASDFWarning: Data 'L0.AE38/L0.AE38.00.FHZ__2018-02-09T22:36:01__2018-02-09T22:36:01__raw_record' already exists in file. Will not be added!\n",
      "  closure_warn(self, *args, **kwargs)\n",
      "/home/jes-lab/anaconda3/envs/obspy/lib/python3.6/site-packages/pyasdf/asdf_data_set.py:51: ASDFWarning: Data 'L0.AE38/L0.AE38.00.FHZ__2018-02-09T22:46:00__2018-02-09T22:46:00__raw_record' already exists in file. Will not be added!\n",
      "  closure_warn(self, *args, **kwargs)\n",
      "/home/jes-lab/anaconda3/envs/obspy/lib/python3.6/site-packages/pyasdf/asdf_data_set.py:51: ASDFWarning: Data 'L0.AE38/L0.AE38.00.FHZ__2018-02-09T22:46:00__2018-02-09T22:46:00__raw_record' already exists in file. Will not be added!\n",
      "  closure_warn(self, *args, **kwargs)\n",
      "/home/jes-lab/anaconda3/envs/obspy/lib/python3.6/site-packages/pyasdf/asdf_data_set.py:51: ASDFWarning: Data 'L0.AE38/L0.AE38.00.FHZ__2018-02-09T22:46:00__2018-02-09T22:46:00__raw_record' already exists in file. Will not be added!\n",
      "  closure_warn(self, *args, **kwargs)\n",
      "/home/jes-lab/anaconda3/envs/obspy/lib/python3.6/site-packages/pyasdf/asdf_data_set.py:51: ASDFWarning: Data 'L0.AE38/L0.AE38.00.FHZ__2018-02-09T22:50:13__2018-02-09T22:50:13__raw_record' already exists in file. Will not be added!\n",
      "  closure_warn(self, *args, **kwargs)\n",
      "/home/jes-lab/anaconda3/envs/obspy/lib/python3.6/site-packages/pyasdf/asdf_data_set.py:51: ASDFWarning: Data 'L0.AE38/L0.AE38.00.FHZ__2018-02-09T22:50:13__2018-02-09T22:50:13__raw_record' already exists in file. Will not be added!\n",
      "  closure_warn(self, *args, **kwargs)\n",
      "/home/jes-lab/anaconda3/envs/obspy/lib/python3.6/site-packages/pyasdf/asdf_data_set.py:51: ASDFWarning: Data 'L0.AE38/L0.AE38.00.FHZ__2018-02-09T22:50:15__2018-02-09T22:50:15__raw_record' already exists in file. Will not be added!\n",
      "  closure_warn(self, *args, **kwargs)\n",
      "/home/jes-lab/anaconda3/envs/obspy/lib/python3.6/site-packages/pyasdf/asdf_data_set.py:51: ASDFWarning: Data 'L0.AE38/L0.AE38.00.FHZ__2018-02-09T22:50:16__2018-02-09T22:50:16__raw_record' already exists in file. Will not be added!\n",
      "  closure_warn(self, *args, **kwargs)\n",
      "/home/jes-lab/anaconda3/envs/obspy/lib/python3.6/site-packages/pyasdf/asdf_data_set.py:51: ASDFWarning: Data 'L0.AE38/L0.AE38.00.FHZ__2018-02-09T22:50:16__2018-02-09T22:50:16__raw_record' already exists in file. Will not be added!\n",
      "  closure_warn(self, *args, **kwargs)\n",
      "/home/jes-lab/anaconda3/envs/obspy/lib/python3.6/site-packages/pyasdf/asdf_data_set.py:51: ASDFWarning: Data 'L0.AE38/L0.AE38.00.FHZ__2018-02-09T22:50:17__2018-02-09T22:50:17__raw_record' already exists in file. Will not be added!\n",
      "  closure_warn(self, *args, **kwargs)\n",
      "/home/jes-lab/anaconda3/envs/obspy/lib/python3.6/site-packages/pyasdf/asdf_data_set.py:51: ASDFWarning: Data 'L0.AE38/L0.AE38.00.FHZ__2018-02-09T22:50:17__2018-02-09T22:50:17__raw_record' already exists in file. Will not be added!\n",
      "  closure_warn(self, *args, **kwargs)\n",
      "/home/jes-lab/anaconda3/envs/obspy/lib/python3.6/site-packages/pyasdf/asdf_data_set.py:51: ASDFWarning: Data 'L0.AE38/L0.AE38.00.FHZ__2018-02-09T22:50:17__2018-02-09T22:50:17__raw_record' already exists in file. Will not be added!\n",
      "  closure_warn(self, *args, **kwargs)\n"
     ]
    },
    {
     "name": "stderr",
     "output_type": "stream",
     "text": [
      "/home/jes-lab/anaconda3/envs/obspy/lib/python3.6/site-packages/pyasdf/asdf_data_set.py:51: ASDFWarning: Data 'L0.AE38/L0.AE38.00.FHZ__2018-02-09T22:50:17__2018-02-09T22:50:17__raw_record' already exists in file. Will not be added!\n",
      "  closure_warn(self, *args, **kwargs)\n",
      "/home/jes-lab/anaconda3/envs/obspy/lib/python3.6/site-packages/pyasdf/asdf_data_set.py:51: ASDFWarning: Data 'L0.AE38/L0.AE38.00.FHZ__2018-02-09T22:50:17__2018-02-09T22:50:17__raw_record' already exists in file. Will not be added!\n",
      "  closure_warn(self, *args, **kwargs)\n",
      "/home/jes-lab/anaconda3/envs/obspy/lib/python3.6/site-packages/pyasdf/asdf_data_set.py:51: ASDFWarning: Data 'L0.AE35/L0.AE35.00.FHZ__2018-02-09T22:36:00__2018-02-09T22:36:01__raw_record' already exists in file. Will not be added!\n",
      "  closure_warn(self, *args, **kwargs)\n",
      "/home/jes-lab/anaconda3/envs/obspy/lib/python3.6/site-packages/pyasdf/asdf_data_set.py:51: ASDFWarning: Data 'L0.AE35/L0.AE35.00.FHZ__2018-02-09T22:36:01__2018-02-09T22:36:01__raw_record' already exists in file. Will not be added!\n",
      "  closure_warn(self, *args, **kwargs)\n",
      "/home/jes-lab/anaconda3/envs/obspy/lib/python3.6/site-packages/pyasdf/asdf_data_set.py:51: ASDFWarning: Data 'L0.AE35/L0.AE35.00.FHZ__2018-02-09T22:36:01__2018-02-09T22:36:01__raw_record' already exists in file. Will not be added!\n",
      "  closure_warn(self, *args, **kwargs)\n",
      "/home/jes-lab/anaconda3/envs/obspy/lib/python3.6/site-packages/pyasdf/asdf_data_set.py:51: ASDFWarning: Data 'L0.AE35/L0.AE35.00.FHZ__2018-02-09T22:36:01__2018-02-09T22:36:01__raw_record' already exists in file. Will not be added!\n",
      "  closure_warn(self, *args, **kwargs)\n",
      "/home/jes-lab/anaconda3/envs/obspy/lib/python3.6/site-packages/pyasdf/asdf_data_set.py:51: ASDFWarning: Data 'L0.AE35/L0.AE35.00.FHZ__2018-02-09T22:36:01__2018-02-09T22:36:01__raw_record' already exists in file. Will not be added!\n",
      "  closure_warn(self, *args, **kwargs)\n",
      "/home/jes-lab/anaconda3/envs/obspy/lib/python3.6/site-packages/pyasdf/asdf_data_set.py:51: ASDFWarning: Data 'L0.AE35/L0.AE35.00.FHZ__2018-02-09T22:36:01__2018-02-09T22:36:01__raw_record' already exists in file. Will not be added!\n",
      "  closure_warn(self, *args, **kwargs)\n",
      "/home/jes-lab/anaconda3/envs/obspy/lib/python3.6/site-packages/pyasdf/asdf_data_set.py:51: ASDFWarning: Data 'L0.AE35/L0.AE35.00.FHZ__2018-02-09T22:46:00__2018-02-09T22:46:00__raw_record' already exists in file. Will not be added!\n",
      "  closure_warn(self, *args, **kwargs)\n",
      "/home/jes-lab/anaconda3/envs/obspy/lib/python3.6/site-packages/pyasdf/asdf_data_set.py:51: ASDFWarning: Data 'L0.AE35/L0.AE35.00.FHZ__2018-02-09T22:46:00__2018-02-09T22:46:00__raw_record' already exists in file. Will not be added!\n",
      "  closure_warn(self, *args, **kwargs)\n",
      "/home/jes-lab/anaconda3/envs/obspy/lib/python3.6/site-packages/pyasdf/asdf_data_set.py:51: ASDFWarning: Data 'L0.AE35/L0.AE35.00.FHZ__2018-02-09T22:46:00__2018-02-09T22:46:00__raw_record' already exists in file. Will not be added!\n",
      "  closure_warn(self, *args, **kwargs)\n",
      "/home/jes-lab/anaconda3/envs/obspy/lib/python3.6/site-packages/pyasdf/asdf_data_set.py:51: ASDFWarning: Data 'L0.AE35/L0.AE35.00.FHZ__2018-02-09T22:50:13__2018-02-09T22:50:13__raw_record' already exists in file. Will not be added!\n",
      "  closure_warn(self, *args, **kwargs)\n",
      "/home/jes-lab/anaconda3/envs/obspy/lib/python3.6/site-packages/pyasdf/asdf_data_set.py:51: ASDFWarning: Data 'L0.AE35/L0.AE35.00.FHZ__2018-02-09T22:50:13__2018-02-09T22:50:13__raw_record' already exists in file. Will not be added!\n",
      "  closure_warn(self, *args, **kwargs)\n",
      "/home/jes-lab/anaconda3/envs/obspy/lib/python3.6/site-packages/pyasdf/asdf_data_set.py:51: ASDFWarning: Data 'L0.AE35/L0.AE35.00.FHZ__2018-02-09T22:50:15__2018-02-09T22:50:15__raw_record' already exists in file. Will not be added!\n",
      "  closure_warn(self, *args, **kwargs)\n",
      "/home/jes-lab/anaconda3/envs/obspy/lib/python3.6/site-packages/pyasdf/asdf_data_set.py:51: ASDFWarning: Data 'L0.AE35/L0.AE35.00.FHZ__2018-02-09T22:50:16__2018-02-09T22:50:16__raw_record' already exists in file. Will not be added!\n",
      "  closure_warn(self, *args, **kwargs)\n",
      "/home/jes-lab/anaconda3/envs/obspy/lib/python3.6/site-packages/pyasdf/asdf_data_set.py:51: ASDFWarning: Data 'L0.AE35/L0.AE35.00.FHZ__2018-02-09T22:50:16__2018-02-09T22:50:16__raw_record' already exists in file. Will not be added!\n",
      "  closure_warn(self, *args, **kwargs)\n",
      "/home/jes-lab/anaconda3/envs/obspy/lib/python3.6/site-packages/pyasdf/asdf_data_set.py:51: ASDFWarning: Data 'L0.AE35/L0.AE35.00.FHZ__2018-02-09T22:50:17__2018-02-09T22:50:17__raw_record' already exists in file. Will not be added!\n",
      "  closure_warn(self, *args, **kwargs)\n",
      "/home/jes-lab/anaconda3/envs/obspy/lib/python3.6/site-packages/pyasdf/asdf_data_set.py:51: ASDFWarning: Data 'L0.AE35/L0.AE35.00.FHZ__2018-02-09T22:50:17__2018-02-09T22:50:17__raw_record' already exists in file. Will not be added!\n",
      "  closure_warn(self, *args, **kwargs)\n",
      "/home/jes-lab/anaconda3/envs/obspy/lib/python3.6/site-packages/pyasdf/asdf_data_set.py:51: ASDFWarning: Data 'L0.AE35/L0.AE35.00.FHZ__2018-02-09T22:50:17__2018-02-09T22:50:17__raw_record' already exists in file. Will not be added!\n",
      "  closure_warn(self, *args, **kwargs)\n",
      "/home/jes-lab/anaconda3/envs/obspy/lib/python3.6/site-packages/pyasdf/asdf_data_set.py:51: ASDFWarning: Data 'L0.AE35/L0.AE35.00.FHZ__2018-02-09T22:50:17__2018-02-09T22:50:17__raw_record' already exists in file. Will not be added!\n",
      "  closure_warn(self, *args, **kwargs)\n",
      "/home/jes-lab/anaconda3/envs/obspy/lib/python3.6/site-packages/pyasdf/asdf_data_set.py:51: ASDFWarning: Data 'L0.AE35/L0.AE35.00.FHZ__2018-02-09T22:50:17__2018-02-09T22:50:17__raw_record' already exists in file. Will not be added!\n",
      "  closure_warn(self, *args, **kwargs)\n",
      "/home/jes-lab/anaconda3/envs/obspy/lib/python3.6/site-packages/pyasdf/asdf_data_set.py:51: ASDFWarning: Data 'L0.AE18/L0.AE18.00.FHZ__2018-02-09T22:36:00__2018-02-09T22:36:01__raw_record' already exists in file. Will not be added!\n",
      "  closure_warn(self, *args, **kwargs)\n",
      "/home/jes-lab/anaconda3/envs/obspy/lib/python3.6/site-packages/pyasdf/asdf_data_set.py:51: ASDFWarning: Data 'L0.AE18/L0.AE18.00.FHZ__2018-02-09T22:36:01__2018-02-09T22:36:01__raw_record' already exists in file. Will not be added!\n",
      "  closure_warn(self, *args, **kwargs)\n",
      "/home/jes-lab/anaconda3/envs/obspy/lib/python3.6/site-packages/pyasdf/asdf_data_set.py:51: ASDFWarning: Data 'L0.AE18/L0.AE18.00.FHZ__2018-02-09T22:36:01__2018-02-09T22:36:01__raw_record' already exists in file. Will not be added!\n",
      "  closure_warn(self, *args, **kwargs)\n",
      "/home/jes-lab/anaconda3/envs/obspy/lib/python3.6/site-packages/pyasdf/asdf_data_set.py:51: ASDFWarning: Data 'L0.AE18/L0.AE18.00.FHZ__2018-02-09T22:36:01__2018-02-09T22:36:01__raw_record' already exists in file. Will not be added!\n",
      "  closure_warn(self, *args, **kwargs)\n",
      "/home/jes-lab/anaconda3/envs/obspy/lib/python3.6/site-packages/pyasdf/asdf_data_set.py:51: ASDFWarning: Data 'L0.AE18/L0.AE18.00.FHZ__2018-02-09T22:36:01__2018-02-09T22:36:01__raw_record' already exists in file. Will not be added!\n",
      "  closure_warn(self, *args, **kwargs)\n",
      "/home/jes-lab/anaconda3/envs/obspy/lib/python3.6/site-packages/pyasdf/asdf_data_set.py:51: ASDFWarning: Data 'L0.AE18/L0.AE18.00.FHZ__2018-02-09T22:36:01__2018-02-09T22:36:01__raw_record' already exists in file. Will not be added!\n",
      "  closure_warn(self, *args, **kwargs)\n",
      "/home/jes-lab/anaconda3/envs/obspy/lib/python3.6/site-packages/pyasdf/asdf_data_set.py:51: ASDFWarning: Data 'L0.AE18/L0.AE18.00.FHZ__2018-02-09T22:46:00__2018-02-09T22:46:00__raw_record' already exists in file. Will not be added!\n",
      "  closure_warn(self, *args, **kwargs)\n",
      "/home/jes-lab/anaconda3/envs/obspy/lib/python3.6/site-packages/pyasdf/asdf_data_set.py:51: ASDFWarning: Data 'L0.AE18/L0.AE18.00.FHZ__2018-02-09T22:46:00__2018-02-09T22:46:00__raw_record' already exists in file. Will not be added!\n",
      "  closure_warn(self, *args, **kwargs)\n",
      "/home/jes-lab/anaconda3/envs/obspy/lib/python3.6/site-packages/pyasdf/asdf_data_set.py:51: ASDFWarning: Data 'L0.AE18/L0.AE18.00.FHZ__2018-02-09T22:46:00__2018-02-09T22:46:00__raw_record' already exists in file. Will not be added!\n",
      "  closure_warn(self, *args, **kwargs)\n",
      "/home/jes-lab/anaconda3/envs/obspy/lib/python3.6/site-packages/pyasdf/asdf_data_set.py:51: ASDFWarning: Data 'L0.AE18/L0.AE18.00.FHZ__2018-02-09T22:50:13__2018-02-09T22:50:13__raw_record' already exists in file. Will not be added!\n",
      "  closure_warn(self, *args, **kwargs)\n"
     ]
    },
    {
     "name": "stderr",
     "output_type": "stream",
     "text": [
      "/home/jes-lab/anaconda3/envs/obspy/lib/python3.6/site-packages/pyasdf/asdf_data_set.py:51: ASDFWarning: Data 'L0.AE18/L0.AE18.00.FHZ__2018-02-09T22:50:13__2018-02-09T22:50:13__raw_record' already exists in file. Will not be added!\n",
      "  closure_warn(self, *args, **kwargs)\n",
      "/home/jes-lab/anaconda3/envs/obspy/lib/python3.6/site-packages/pyasdf/asdf_data_set.py:51: ASDFWarning: Data 'L0.AE18/L0.AE18.00.FHZ__2018-02-09T22:50:15__2018-02-09T22:50:15__raw_record' already exists in file. Will not be added!\n",
      "  closure_warn(self, *args, **kwargs)\n",
      "/home/jes-lab/anaconda3/envs/obspy/lib/python3.6/site-packages/pyasdf/asdf_data_set.py:51: ASDFWarning: Data 'L0.AE18/L0.AE18.00.FHZ__2018-02-09T22:50:16__2018-02-09T22:50:16__raw_record' already exists in file. Will not be added!\n",
      "  closure_warn(self, *args, **kwargs)\n",
      "/home/jes-lab/anaconda3/envs/obspy/lib/python3.6/site-packages/pyasdf/asdf_data_set.py:51: ASDFWarning: Data 'L0.AE18/L0.AE18.00.FHZ__2018-02-09T22:50:16__2018-02-09T22:50:16__raw_record' already exists in file. Will not be added!\n",
      "  closure_warn(self, *args, **kwargs)\n",
      "/home/jes-lab/anaconda3/envs/obspy/lib/python3.6/site-packages/pyasdf/asdf_data_set.py:51: ASDFWarning: Data 'L0.AE18/L0.AE18.00.FHZ__2018-02-09T22:50:17__2018-02-09T22:50:17__raw_record' already exists in file. Will not be added!\n",
      "  closure_warn(self, *args, **kwargs)\n",
      "/home/jes-lab/anaconda3/envs/obspy/lib/python3.6/site-packages/pyasdf/asdf_data_set.py:51: ASDFWarning: Data 'L0.AE18/L0.AE18.00.FHZ__2018-02-09T22:50:17__2018-02-09T22:50:17__raw_record' already exists in file. Will not be added!\n",
      "  closure_warn(self, *args, **kwargs)\n",
      "/home/jes-lab/anaconda3/envs/obspy/lib/python3.6/site-packages/pyasdf/asdf_data_set.py:51: ASDFWarning: Data 'L0.AE18/L0.AE18.00.FHZ__2018-02-09T22:50:17__2018-02-09T22:50:17__raw_record' already exists in file. Will not be added!\n",
      "  closure_warn(self, *args, **kwargs)\n",
      "/home/jes-lab/anaconda3/envs/obspy/lib/python3.6/site-packages/pyasdf/asdf_data_set.py:51: ASDFWarning: Data 'L0.AE18/L0.AE18.00.FHZ__2018-02-09T22:50:17__2018-02-09T22:50:17__raw_record' already exists in file. Will not be added!\n",
      "  closure_warn(self, *args, **kwargs)\n",
      "/home/jes-lab/anaconda3/envs/obspy/lib/python3.6/site-packages/pyasdf/asdf_data_set.py:51: ASDFWarning: Data 'L0.AE18/L0.AE18.00.FHZ__2018-02-09T22:50:17__2018-02-09T22:50:17__raw_record' already exists in file. Will not be added!\n",
      "  closure_warn(self, *args, **kwargs)\n",
      "/home/jes-lab/anaconda3/envs/obspy/lib/python3.6/site-packages/pyasdf/asdf_data_set.py:51: ASDFWarning: Data 'L0.AE11/L0.AE11.00.FHZ__2018-02-09T22:36:00__2018-02-09T22:36:01__raw_record' already exists in file. Will not be added!\n",
      "  closure_warn(self, *args, **kwargs)\n",
      "/home/jes-lab/anaconda3/envs/obspy/lib/python3.6/site-packages/pyasdf/asdf_data_set.py:51: ASDFWarning: Data 'L0.AE11/L0.AE11.00.FHZ__2018-02-09T22:36:01__2018-02-09T22:36:01__raw_record' already exists in file. Will not be added!\n",
      "  closure_warn(self, *args, **kwargs)\n",
      "/home/jes-lab/anaconda3/envs/obspy/lib/python3.6/site-packages/pyasdf/asdf_data_set.py:51: ASDFWarning: Data 'L0.AE11/L0.AE11.00.FHZ__2018-02-09T22:36:01__2018-02-09T22:36:01__raw_record' already exists in file. Will not be added!\n",
      "  closure_warn(self, *args, **kwargs)\n",
      "/home/jes-lab/anaconda3/envs/obspy/lib/python3.6/site-packages/pyasdf/asdf_data_set.py:51: ASDFWarning: Data 'L0.AE11/L0.AE11.00.FHZ__2018-02-09T22:36:01__2018-02-09T22:36:01__raw_record' already exists in file. Will not be added!\n",
      "  closure_warn(self, *args, **kwargs)\n",
      "/home/jes-lab/anaconda3/envs/obspy/lib/python3.6/site-packages/pyasdf/asdf_data_set.py:51: ASDFWarning: Data 'L0.AE11/L0.AE11.00.FHZ__2018-02-09T22:36:01__2018-02-09T22:36:01__raw_record' already exists in file. Will not be added!\n",
      "  closure_warn(self, *args, **kwargs)\n",
      "/home/jes-lab/anaconda3/envs/obspy/lib/python3.6/site-packages/pyasdf/asdf_data_set.py:51: ASDFWarning: Data 'L0.AE11/L0.AE11.00.FHZ__2018-02-09T22:36:01__2018-02-09T22:36:01__raw_record' already exists in file. Will not be added!\n",
      "  closure_warn(self, *args, **kwargs)\n",
      "/home/jes-lab/anaconda3/envs/obspy/lib/python3.6/site-packages/pyasdf/asdf_data_set.py:51: ASDFWarning: Data 'L0.AE11/L0.AE11.00.FHZ__2018-02-09T22:46:00__2018-02-09T22:46:00__raw_record' already exists in file. Will not be added!\n",
      "  closure_warn(self, *args, **kwargs)\n",
      "/home/jes-lab/anaconda3/envs/obspy/lib/python3.6/site-packages/pyasdf/asdf_data_set.py:51: ASDFWarning: Data 'L0.AE11/L0.AE11.00.FHZ__2018-02-09T22:46:00__2018-02-09T22:46:00__raw_record' already exists in file. Will not be added!\n",
      "  closure_warn(self, *args, **kwargs)\n",
      "/home/jes-lab/anaconda3/envs/obspy/lib/python3.6/site-packages/pyasdf/asdf_data_set.py:51: ASDFWarning: Data 'L0.AE11/L0.AE11.00.FHZ__2018-02-09T22:46:00__2018-02-09T22:46:00__raw_record' already exists in file. Will not be added!\n",
      "  closure_warn(self, *args, **kwargs)\n",
      "/home/jes-lab/anaconda3/envs/obspy/lib/python3.6/site-packages/pyasdf/asdf_data_set.py:51: ASDFWarning: Data 'L0.AE11/L0.AE11.00.FHZ__2018-02-09T22:50:13__2018-02-09T22:50:13__raw_record' already exists in file. Will not be added!\n",
      "  closure_warn(self, *args, **kwargs)\n",
      "/home/jes-lab/anaconda3/envs/obspy/lib/python3.6/site-packages/pyasdf/asdf_data_set.py:51: ASDFWarning: Data 'L0.AE11/L0.AE11.00.FHZ__2018-02-09T22:50:13__2018-02-09T22:50:13__raw_record' already exists in file. Will not be added!\n",
      "  closure_warn(self, *args, **kwargs)\n",
      "/home/jes-lab/anaconda3/envs/obspy/lib/python3.6/site-packages/pyasdf/asdf_data_set.py:51: ASDFWarning: Data 'L0.AE11/L0.AE11.00.FHZ__2018-02-09T22:50:15__2018-02-09T22:50:15__raw_record' already exists in file. Will not be added!\n",
      "  closure_warn(self, *args, **kwargs)\n",
      "/home/jes-lab/anaconda3/envs/obspy/lib/python3.6/site-packages/pyasdf/asdf_data_set.py:51: ASDFWarning: Data 'L0.AE11/L0.AE11.00.FHZ__2018-02-09T22:50:16__2018-02-09T22:50:16__raw_record' already exists in file. Will not be added!\n",
      "  closure_warn(self, *args, **kwargs)\n",
      "/home/jes-lab/anaconda3/envs/obspy/lib/python3.6/site-packages/pyasdf/asdf_data_set.py:51: ASDFWarning: Data 'L0.AE11/L0.AE11.00.FHZ__2018-02-09T22:50:16__2018-02-09T22:50:16__raw_record' already exists in file. Will not be added!\n",
      "  closure_warn(self, *args, **kwargs)\n",
      "/home/jes-lab/anaconda3/envs/obspy/lib/python3.6/site-packages/pyasdf/asdf_data_set.py:51: ASDFWarning: Data 'L0.AE11/L0.AE11.00.FHZ__2018-02-09T22:50:17__2018-02-09T22:50:17__raw_record' already exists in file. Will not be added!\n",
      "  closure_warn(self, *args, **kwargs)\n",
      "/home/jes-lab/anaconda3/envs/obspy/lib/python3.6/site-packages/pyasdf/asdf_data_set.py:51: ASDFWarning: Data 'L0.AE11/L0.AE11.00.FHZ__2018-02-09T22:50:17__2018-02-09T22:50:17__raw_record' already exists in file. Will not be added!\n",
      "  closure_warn(self, *args, **kwargs)\n",
      "/home/jes-lab/anaconda3/envs/obspy/lib/python3.6/site-packages/pyasdf/asdf_data_set.py:51: ASDFWarning: Data 'L0.AE11/L0.AE11.00.FHZ__2018-02-09T22:50:17__2018-02-09T22:50:17__raw_record' already exists in file. Will not be added!\n",
      "  closure_warn(self, *args, **kwargs)\n",
      "/home/jes-lab/anaconda3/envs/obspy/lib/python3.6/site-packages/pyasdf/asdf_data_set.py:51: ASDFWarning: Data 'L0.AE11/L0.AE11.00.FHZ__2018-02-09T22:50:17__2018-02-09T22:50:17__raw_record' already exists in file. Will not be added!\n",
      "  closure_warn(self, *args, **kwargs)\n",
      "/home/jes-lab/anaconda3/envs/obspy/lib/python3.6/site-packages/pyasdf/asdf_data_set.py:51: ASDFWarning: Data 'L0.AE11/L0.AE11.00.FHZ__2018-02-09T22:50:17__2018-02-09T22:50:17__raw_record' already exists in file. Will not be added!\n",
      "  closure_warn(self, *args, **kwargs)\n",
      "/home/jes-lab/anaconda3/envs/obspy/lib/python3.6/site-packages/pyasdf/asdf_data_set.py:51: ASDFWarning: Data 'L0.AE21/L0.AE21.00.FHZ__2018-02-09T22:36:00__2018-02-09T22:36:01__raw_record' already exists in file. Will not be added!\n",
      "  closure_warn(self, *args, **kwargs)\n",
      "/home/jes-lab/anaconda3/envs/obspy/lib/python3.6/site-packages/pyasdf/asdf_data_set.py:51: ASDFWarning: Data 'L0.AE21/L0.AE21.00.FHZ__2018-02-09T22:36:01__2018-02-09T22:36:01__raw_record' already exists in file. Will not be added!\n",
      "  closure_warn(self, *args, **kwargs)\n",
      "/home/jes-lab/anaconda3/envs/obspy/lib/python3.6/site-packages/pyasdf/asdf_data_set.py:51: ASDFWarning: Data 'L0.AE21/L0.AE21.00.FHZ__2018-02-09T22:36:01__2018-02-09T22:36:01__raw_record' already exists in file. Will not be added!\n",
      "  closure_warn(self, *args, **kwargs)\n"
     ]
    },
    {
     "name": "stderr",
     "output_type": "stream",
     "text": [
      "/home/jes-lab/anaconda3/envs/obspy/lib/python3.6/site-packages/pyasdf/asdf_data_set.py:51: ASDFWarning: Data 'L0.AE21/L0.AE21.00.FHZ__2018-02-09T22:36:01__2018-02-09T22:36:01__raw_record' already exists in file. Will not be added!\n",
      "  closure_warn(self, *args, **kwargs)\n",
      "/home/jes-lab/anaconda3/envs/obspy/lib/python3.6/site-packages/pyasdf/asdf_data_set.py:51: ASDFWarning: Data 'L0.AE21/L0.AE21.00.FHZ__2018-02-09T22:36:01__2018-02-09T22:36:01__raw_record' already exists in file. Will not be added!\n",
      "  closure_warn(self, *args, **kwargs)\n",
      "/home/jes-lab/anaconda3/envs/obspy/lib/python3.6/site-packages/pyasdf/asdf_data_set.py:51: ASDFWarning: Data 'L0.AE21/L0.AE21.00.FHZ__2018-02-09T22:36:01__2018-02-09T22:36:01__raw_record' already exists in file. Will not be added!\n",
      "  closure_warn(self, *args, **kwargs)\n",
      "/home/jes-lab/anaconda3/envs/obspy/lib/python3.6/site-packages/pyasdf/asdf_data_set.py:51: ASDFWarning: Data 'L0.AE21/L0.AE21.00.FHZ__2018-02-09T22:46:00__2018-02-09T22:46:00__raw_record' already exists in file. Will not be added!\n",
      "  closure_warn(self, *args, **kwargs)\n",
      "/home/jes-lab/anaconda3/envs/obspy/lib/python3.6/site-packages/pyasdf/asdf_data_set.py:51: ASDFWarning: Data 'L0.AE21/L0.AE21.00.FHZ__2018-02-09T22:46:00__2018-02-09T22:46:00__raw_record' already exists in file. Will not be added!\n",
      "  closure_warn(self, *args, **kwargs)\n",
      "/home/jes-lab/anaconda3/envs/obspy/lib/python3.6/site-packages/pyasdf/asdf_data_set.py:51: ASDFWarning: Data 'L0.AE21/L0.AE21.00.FHZ__2018-02-09T22:46:00__2018-02-09T22:46:00__raw_record' already exists in file. Will not be added!\n",
      "  closure_warn(self, *args, **kwargs)\n",
      "/home/jes-lab/anaconda3/envs/obspy/lib/python3.6/site-packages/pyasdf/asdf_data_set.py:51: ASDFWarning: Data 'L0.AE21/L0.AE21.00.FHZ__2018-02-09T22:50:13__2018-02-09T22:50:13__raw_record' already exists in file. Will not be added!\n",
      "  closure_warn(self, *args, **kwargs)\n",
      "/home/jes-lab/anaconda3/envs/obspy/lib/python3.6/site-packages/pyasdf/asdf_data_set.py:51: ASDFWarning: Data 'L0.AE21/L0.AE21.00.FHZ__2018-02-09T22:50:13__2018-02-09T22:50:13__raw_record' already exists in file. Will not be added!\n",
      "  closure_warn(self, *args, **kwargs)\n",
      "/home/jes-lab/anaconda3/envs/obspy/lib/python3.6/site-packages/pyasdf/asdf_data_set.py:51: ASDFWarning: Data 'L0.AE21/L0.AE21.00.FHZ__2018-02-09T22:50:15__2018-02-09T22:50:15__raw_record' already exists in file. Will not be added!\n",
      "  closure_warn(self, *args, **kwargs)\n",
      "/home/jes-lab/anaconda3/envs/obspy/lib/python3.6/site-packages/pyasdf/asdf_data_set.py:51: ASDFWarning: Data 'L0.AE21/L0.AE21.00.FHZ__2018-02-09T22:50:16__2018-02-09T22:50:16__raw_record' already exists in file. Will not be added!\n",
      "  closure_warn(self, *args, **kwargs)\n",
      "/home/jes-lab/anaconda3/envs/obspy/lib/python3.6/site-packages/pyasdf/asdf_data_set.py:51: ASDFWarning: Data 'L0.AE21/L0.AE21.00.FHZ__2018-02-09T22:50:16__2018-02-09T22:50:16__raw_record' already exists in file. Will not be added!\n",
      "  closure_warn(self, *args, **kwargs)\n",
      "/home/jes-lab/anaconda3/envs/obspy/lib/python3.6/site-packages/pyasdf/asdf_data_set.py:51: ASDFWarning: Data 'L0.AE21/L0.AE21.00.FHZ__2018-02-09T22:50:17__2018-02-09T22:50:17__raw_record' already exists in file. Will not be added!\n",
      "  closure_warn(self, *args, **kwargs)\n",
      "/home/jes-lab/anaconda3/envs/obspy/lib/python3.6/site-packages/pyasdf/asdf_data_set.py:51: ASDFWarning: Data 'L0.AE21/L0.AE21.00.FHZ__2018-02-09T22:50:17__2018-02-09T22:50:17__raw_record' already exists in file. Will not be added!\n",
      "  closure_warn(self, *args, **kwargs)\n",
      "/home/jes-lab/anaconda3/envs/obspy/lib/python3.6/site-packages/pyasdf/asdf_data_set.py:51: ASDFWarning: Data 'L0.AE21/L0.AE21.00.FHZ__2018-02-09T22:50:17__2018-02-09T22:50:17__raw_record' already exists in file. Will not be added!\n",
      "  closure_warn(self, *args, **kwargs)\n",
      "/home/jes-lab/anaconda3/envs/obspy/lib/python3.6/site-packages/pyasdf/asdf_data_set.py:51: ASDFWarning: Data 'L0.AE21/L0.AE21.00.FHZ__2018-02-09T22:50:17__2018-02-09T22:50:17__raw_record' already exists in file. Will not be added!\n",
      "  closure_warn(self, *args, **kwargs)\n",
      "/home/jes-lab/anaconda3/envs/obspy/lib/python3.6/site-packages/pyasdf/asdf_data_set.py:51: ASDFWarning: Data 'L0.AE21/L0.AE21.00.FHZ__2018-02-09T22:50:17__2018-02-09T22:50:17__raw_record' already exists in file. Will not be added!\n",
      "  closure_warn(self, *args, **kwargs)\n",
      "/home/jes-lab/anaconda3/envs/obspy/lib/python3.6/site-packages/pyasdf/asdf_data_set.py:51: ASDFWarning: Data 'L0.AE28/L0.AE28.00.FHZ__2018-02-09T22:36:00__2018-02-09T22:36:01__raw_record' already exists in file. Will not be added!\n",
      "  closure_warn(self, *args, **kwargs)\n",
      "/home/jes-lab/anaconda3/envs/obspy/lib/python3.6/site-packages/pyasdf/asdf_data_set.py:51: ASDFWarning: Data 'L0.AE28/L0.AE28.00.FHZ__2018-02-09T22:36:01__2018-02-09T22:36:01__raw_record' already exists in file. Will not be added!\n",
      "  closure_warn(self, *args, **kwargs)\n",
      "/home/jes-lab/anaconda3/envs/obspy/lib/python3.6/site-packages/pyasdf/asdf_data_set.py:51: ASDFWarning: Data 'L0.AE28/L0.AE28.00.FHZ__2018-02-09T22:36:01__2018-02-09T22:36:01__raw_record' already exists in file. Will not be added!\n",
      "  closure_warn(self, *args, **kwargs)\n",
      "/home/jes-lab/anaconda3/envs/obspy/lib/python3.6/site-packages/pyasdf/asdf_data_set.py:51: ASDFWarning: Data 'L0.AE28/L0.AE28.00.FHZ__2018-02-09T22:36:01__2018-02-09T22:36:01__raw_record' already exists in file. Will not be added!\n",
      "  closure_warn(self, *args, **kwargs)\n",
      "/home/jes-lab/anaconda3/envs/obspy/lib/python3.6/site-packages/pyasdf/asdf_data_set.py:51: ASDFWarning: Data 'L0.AE28/L0.AE28.00.FHZ__2018-02-09T22:36:01__2018-02-09T22:36:01__raw_record' already exists in file. Will not be added!\n",
      "  closure_warn(self, *args, **kwargs)\n",
      "/home/jes-lab/anaconda3/envs/obspy/lib/python3.6/site-packages/pyasdf/asdf_data_set.py:51: ASDFWarning: Data 'L0.AE28/L0.AE28.00.FHZ__2018-02-09T22:36:01__2018-02-09T22:36:01__raw_record' already exists in file. Will not be added!\n",
      "  closure_warn(self, *args, **kwargs)\n",
      "/home/jes-lab/anaconda3/envs/obspy/lib/python3.6/site-packages/pyasdf/asdf_data_set.py:51: ASDFWarning: Data 'L0.AE28/L0.AE28.00.FHZ__2018-02-09T22:46:00__2018-02-09T22:46:00__raw_record' already exists in file. Will not be added!\n",
      "  closure_warn(self, *args, **kwargs)\n",
      "/home/jes-lab/anaconda3/envs/obspy/lib/python3.6/site-packages/pyasdf/asdf_data_set.py:51: ASDFWarning: Data 'L0.AE28/L0.AE28.00.FHZ__2018-02-09T22:46:00__2018-02-09T22:46:00__raw_record' already exists in file. Will not be added!\n",
      "  closure_warn(self, *args, **kwargs)\n",
      "/home/jes-lab/anaconda3/envs/obspy/lib/python3.6/site-packages/pyasdf/asdf_data_set.py:51: ASDFWarning: Data 'L0.AE28/L0.AE28.00.FHZ__2018-02-09T22:46:00__2018-02-09T22:46:00__raw_record' already exists in file. Will not be added!\n",
      "  closure_warn(self, *args, **kwargs)\n",
      "/home/jes-lab/anaconda3/envs/obspy/lib/python3.6/site-packages/pyasdf/asdf_data_set.py:51: ASDFWarning: Data 'L0.AE28/L0.AE28.00.FHZ__2018-02-09T22:50:13__2018-02-09T22:50:13__raw_record' already exists in file. Will not be added!\n",
      "  closure_warn(self, *args, **kwargs)\n",
      "/home/jes-lab/anaconda3/envs/obspy/lib/python3.6/site-packages/pyasdf/asdf_data_set.py:51: ASDFWarning: Data 'L0.AE28/L0.AE28.00.FHZ__2018-02-09T22:50:13__2018-02-09T22:50:13__raw_record' already exists in file. Will not be added!\n",
      "  closure_warn(self, *args, **kwargs)\n",
      "/home/jes-lab/anaconda3/envs/obspy/lib/python3.6/site-packages/pyasdf/asdf_data_set.py:51: ASDFWarning: Data 'L0.AE28/L0.AE28.00.FHZ__2018-02-09T22:50:15__2018-02-09T22:50:15__raw_record' already exists in file. Will not be added!\n",
      "  closure_warn(self, *args, **kwargs)\n",
      "/home/jes-lab/anaconda3/envs/obspy/lib/python3.6/site-packages/pyasdf/asdf_data_set.py:51: ASDFWarning: Data 'L0.AE28/L0.AE28.00.FHZ__2018-02-09T22:50:16__2018-02-09T22:50:16__raw_record' already exists in file. Will not be added!\n",
      "  closure_warn(self, *args, **kwargs)\n",
      "/home/jes-lab/anaconda3/envs/obspy/lib/python3.6/site-packages/pyasdf/asdf_data_set.py:51: ASDFWarning: Data 'L0.AE28/L0.AE28.00.FHZ__2018-02-09T22:50:16__2018-02-09T22:50:16__raw_record' already exists in file. Will not be added!\n",
      "  closure_warn(self, *args, **kwargs)\n",
      "/home/jes-lab/anaconda3/envs/obspy/lib/python3.6/site-packages/pyasdf/asdf_data_set.py:51: ASDFWarning: Data 'L0.AE28/L0.AE28.00.FHZ__2018-02-09T22:50:17__2018-02-09T22:50:17__raw_record' already exists in file. Will not be added!\n",
      "  closure_warn(self, *args, **kwargs)\n"
     ]
    },
    {
     "name": "stderr",
     "output_type": "stream",
     "text": [
      "/home/jes-lab/anaconda3/envs/obspy/lib/python3.6/site-packages/pyasdf/asdf_data_set.py:51: ASDFWarning: Data 'L0.AE28/L0.AE28.00.FHZ__2018-02-09T22:50:17__2018-02-09T22:50:17__raw_record' already exists in file. Will not be added!\n",
      "  closure_warn(self, *args, **kwargs)\n",
      "/home/jes-lab/anaconda3/envs/obspy/lib/python3.6/site-packages/pyasdf/asdf_data_set.py:51: ASDFWarning: Data 'L0.AE28/L0.AE28.00.FHZ__2018-02-09T22:50:17__2018-02-09T22:50:17__raw_record' already exists in file. Will not be added!\n",
      "  closure_warn(self, *args, **kwargs)\n",
      "/home/jes-lab/anaconda3/envs/obspy/lib/python3.6/site-packages/pyasdf/asdf_data_set.py:51: ASDFWarning: Data 'L0.AE28/L0.AE28.00.FHZ__2018-02-09T22:50:17__2018-02-09T22:50:17__raw_record' already exists in file. Will not be added!\n",
      "  closure_warn(self, *args, **kwargs)\n",
      "/home/jes-lab/anaconda3/envs/obspy/lib/python3.6/site-packages/pyasdf/asdf_data_set.py:51: ASDFWarning: Data 'L0.AE28/L0.AE28.00.FHZ__2018-02-09T22:50:17__2018-02-09T22:50:17__raw_record' already exists in file. Will not be added!\n",
      "  closure_warn(self, *args, **kwargs)\n",
      "/home/jes-lab/anaconda3/envs/obspy/lib/python3.6/site-packages/pyasdf/asdf_data_set.py:51: ASDFWarning: Data 'L0.AE32/L0.AE32.00.FHZ__2018-02-09T22:36:00__2018-02-09T22:36:01__raw_record' already exists in file. Will not be added!\n",
      "  closure_warn(self, *args, **kwargs)\n",
      "/home/jes-lab/anaconda3/envs/obspy/lib/python3.6/site-packages/pyasdf/asdf_data_set.py:51: ASDFWarning: Data 'L0.AE32/L0.AE32.00.FHZ__2018-02-09T22:36:01__2018-02-09T22:36:01__raw_record' already exists in file. Will not be added!\n",
      "  closure_warn(self, *args, **kwargs)\n",
      "/home/jes-lab/anaconda3/envs/obspy/lib/python3.6/site-packages/pyasdf/asdf_data_set.py:51: ASDFWarning: Data 'L0.AE32/L0.AE32.00.FHZ__2018-02-09T22:36:01__2018-02-09T22:36:01__raw_record' already exists in file. Will not be added!\n",
      "  closure_warn(self, *args, **kwargs)\n",
      "/home/jes-lab/anaconda3/envs/obspy/lib/python3.6/site-packages/pyasdf/asdf_data_set.py:51: ASDFWarning: Data 'L0.AE32/L0.AE32.00.FHZ__2018-02-09T22:36:01__2018-02-09T22:36:01__raw_record' already exists in file. Will not be added!\n",
      "  closure_warn(self, *args, **kwargs)\n",
      "/home/jes-lab/anaconda3/envs/obspy/lib/python3.6/site-packages/pyasdf/asdf_data_set.py:51: ASDFWarning: Data 'L0.AE32/L0.AE32.00.FHZ__2018-02-09T22:36:01__2018-02-09T22:36:01__raw_record' already exists in file. Will not be added!\n",
      "  closure_warn(self, *args, **kwargs)\n",
      "/home/jes-lab/anaconda3/envs/obspy/lib/python3.6/site-packages/pyasdf/asdf_data_set.py:51: ASDFWarning: Data 'L0.AE32/L0.AE32.00.FHZ__2018-02-09T22:36:01__2018-02-09T22:36:01__raw_record' already exists in file. Will not be added!\n",
      "  closure_warn(self, *args, **kwargs)\n",
      "/home/jes-lab/anaconda3/envs/obspy/lib/python3.6/site-packages/pyasdf/asdf_data_set.py:51: ASDFWarning: Data 'L0.AE32/L0.AE32.00.FHZ__2018-02-09T22:46:00__2018-02-09T22:46:00__raw_record' already exists in file. Will not be added!\n",
      "  closure_warn(self, *args, **kwargs)\n",
      "/home/jes-lab/anaconda3/envs/obspy/lib/python3.6/site-packages/pyasdf/asdf_data_set.py:51: ASDFWarning: Data 'L0.AE32/L0.AE32.00.FHZ__2018-02-09T22:46:00__2018-02-09T22:46:00__raw_record' already exists in file. Will not be added!\n",
      "  closure_warn(self, *args, **kwargs)\n",
      "/home/jes-lab/anaconda3/envs/obspy/lib/python3.6/site-packages/pyasdf/asdf_data_set.py:51: ASDFWarning: Data 'L0.AE32/L0.AE32.00.FHZ__2018-02-09T22:46:00__2018-02-09T22:46:00__raw_record' already exists in file. Will not be added!\n",
      "  closure_warn(self, *args, **kwargs)\n",
      "/home/jes-lab/anaconda3/envs/obspy/lib/python3.6/site-packages/pyasdf/asdf_data_set.py:51: ASDFWarning: Data 'L0.AE32/L0.AE32.00.FHZ__2018-02-09T22:50:13__2018-02-09T22:50:13__raw_record' already exists in file. Will not be added!\n",
      "  closure_warn(self, *args, **kwargs)\n",
      "/home/jes-lab/anaconda3/envs/obspy/lib/python3.6/site-packages/pyasdf/asdf_data_set.py:51: ASDFWarning: Data 'L0.AE32/L0.AE32.00.FHZ__2018-02-09T22:50:13__2018-02-09T22:50:13__raw_record' already exists in file. Will not be added!\n",
      "  closure_warn(self, *args, **kwargs)\n",
      "/home/jes-lab/anaconda3/envs/obspy/lib/python3.6/site-packages/pyasdf/asdf_data_set.py:51: ASDFWarning: Data 'L0.AE32/L0.AE32.00.FHZ__2018-02-09T22:50:15__2018-02-09T22:50:15__raw_record' already exists in file. Will not be added!\n",
      "  closure_warn(self, *args, **kwargs)\n",
      "/home/jes-lab/anaconda3/envs/obspy/lib/python3.6/site-packages/pyasdf/asdf_data_set.py:51: ASDFWarning: Data 'L0.AE32/L0.AE32.00.FHZ__2018-02-09T22:50:16__2018-02-09T22:50:16__raw_record' already exists in file. Will not be added!\n",
      "  closure_warn(self, *args, **kwargs)\n",
      "/home/jes-lab/anaconda3/envs/obspy/lib/python3.6/site-packages/pyasdf/asdf_data_set.py:51: ASDFWarning: Data 'L0.AE32/L0.AE32.00.FHZ__2018-02-09T22:50:16__2018-02-09T22:50:16__raw_record' already exists in file. Will not be added!\n",
      "  closure_warn(self, *args, **kwargs)\n",
      "/home/jes-lab/anaconda3/envs/obspy/lib/python3.6/site-packages/pyasdf/asdf_data_set.py:51: ASDFWarning: Data 'L0.AE32/L0.AE32.00.FHZ__2018-02-09T22:50:17__2018-02-09T22:50:17__raw_record' already exists in file. Will not be added!\n",
      "  closure_warn(self, *args, **kwargs)\n",
      "/home/jes-lab/anaconda3/envs/obspy/lib/python3.6/site-packages/pyasdf/asdf_data_set.py:51: ASDFWarning: Data 'L0.AE32/L0.AE32.00.FHZ__2018-02-09T22:50:17__2018-02-09T22:50:17__raw_record' already exists in file. Will not be added!\n",
      "  closure_warn(self, *args, **kwargs)\n",
      "/home/jes-lab/anaconda3/envs/obspy/lib/python3.6/site-packages/pyasdf/asdf_data_set.py:51: ASDFWarning: Data 'L0.AE32/L0.AE32.00.FHZ__2018-02-09T22:50:17__2018-02-09T22:50:17__raw_record' already exists in file. Will not be added!\n",
      "  closure_warn(self, *args, **kwargs)\n",
      "/home/jes-lab/anaconda3/envs/obspy/lib/python3.6/site-packages/pyasdf/asdf_data_set.py:51: ASDFWarning: Data 'L0.AE32/L0.AE32.00.FHZ__2018-02-09T22:50:17__2018-02-09T22:50:17__raw_record' already exists in file. Will not be added!\n",
      "  closure_warn(self, *args, **kwargs)\n",
      "/home/jes-lab/anaconda3/envs/obspy/lib/python3.6/site-packages/pyasdf/asdf_data_set.py:51: ASDFWarning: Data 'L0.AE32/L0.AE32.00.FHZ__2018-02-09T22:50:17__2018-02-09T22:50:17__raw_record' already exists in file. Will not be added!\n",
      "  closure_warn(self, *args, **kwargs)\n",
      "/home/jes-lab/anaconda3/envs/obspy/lib/python3.6/site-packages/pyasdf/asdf_data_set.py:51: ASDFWarning: Data 'L0.AE41/L0.AE41.00.FHZ__2018-02-09T22:36:00__2018-02-09T22:36:01__raw_record' already exists in file. Will not be added!\n",
      "  closure_warn(self, *args, **kwargs)\n",
      "/home/jes-lab/anaconda3/envs/obspy/lib/python3.6/site-packages/pyasdf/asdf_data_set.py:51: ASDFWarning: Data 'L0.AE41/L0.AE41.00.FHZ__2018-02-09T22:36:01__2018-02-09T22:36:01__raw_record' already exists in file. Will not be added!\n",
      "  closure_warn(self, *args, **kwargs)\n",
      "/home/jes-lab/anaconda3/envs/obspy/lib/python3.6/site-packages/pyasdf/asdf_data_set.py:51: ASDFWarning: Data 'L0.AE41/L0.AE41.00.FHZ__2018-02-09T22:36:01__2018-02-09T22:36:01__raw_record' already exists in file. Will not be added!\n",
      "  closure_warn(self, *args, **kwargs)\n",
      "/home/jes-lab/anaconda3/envs/obspy/lib/python3.6/site-packages/pyasdf/asdf_data_set.py:51: ASDFWarning: Data 'L0.AE41/L0.AE41.00.FHZ__2018-02-09T22:36:01__2018-02-09T22:36:01__raw_record' already exists in file. Will not be added!\n",
      "  closure_warn(self, *args, **kwargs)\n",
      "/home/jes-lab/anaconda3/envs/obspy/lib/python3.6/site-packages/pyasdf/asdf_data_set.py:51: ASDFWarning: Data 'L0.AE41/L0.AE41.00.FHZ__2018-02-09T22:36:01__2018-02-09T22:36:01__raw_record' already exists in file. Will not be added!\n",
      "  closure_warn(self, *args, **kwargs)\n",
      "/home/jes-lab/anaconda3/envs/obspy/lib/python3.6/site-packages/pyasdf/asdf_data_set.py:51: ASDFWarning: Data 'L0.AE41/L0.AE41.00.FHZ__2018-02-09T22:36:01__2018-02-09T22:36:01__raw_record' already exists in file. Will not be added!\n",
      "  closure_warn(self, *args, **kwargs)\n",
      "/home/jes-lab/anaconda3/envs/obspy/lib/python3.6/site-packages/pyasdf/asdf_data_set.py:51: ASDFWarning: Data 'L0.AE41/L0.AE41.00.FHZ__2018-02-09T22:46:00__2018-02-09T22:46:00__raw_record' already exists in file. Will not be added!\n",
      "  closure_warn(self, *args, **kwargs)\n",
      "/home/jes-lab/anaconda3/envs/obspy/lib/python3.6/site-packages/pyasdf/asdf_data_set.py:51: ASDFWarning: Data 'L0.AE41/L0.AE41.00.FHZ__2018-02-09T22:46:00__2018-02-09T22:46:00__raw_record' already exists in file. Will not be added!\n",
      "  closure_warn(self, *args, **kwargs)\n"
     ]
    },
    {
     "name": "stderr",
     "output_type": "stream",
     "text": [
      "/home/jes-lab/anaconda3/envs/obspy/lib/python3.6/site-packages/pyasdf/asdf_data_set.py:51: ASDFWarning: Data 'L0.AE41/L0.AE41.00.FHZ__2018-02-09T22:46:00__2018-02-09T22:46:00__raw_record' already exists in file. Will not be added!\n",
      "  closure_warn(self, *args, **kwargs)\n",
      "/home/jes-lab/anaconda3/envs/obspy/lib/python3.6/site-packages/pyasdf/asdf_data_set.py:51: ASDFWarning: Data 'L0.AE41/L0.AE41.00.FHZ__2018-02-09T22:50:13__2018-02-09T22:50:13__raw_record' already exists in file. Will not be added!\n",
      "  closure_warn(self, *args, **kwargs)\n",
      "/home/jes-lab/anaconda3/envs/obspy/lib/python3.6/site-packages/pyasdf/asdf_data_set.py:51: ASDFWarning: Data 'L0.AE41/L0.AE41.00.FHZ__2018-02-09T22:50:13__2018-02-09T22:50:13__raw_record' already exists in file. Will not be added!\n",
      "  closure_warn(self, *args, **kwargs)\n",
      "/home/jes-lab/anaconda3/envs/obspy/lib/python3.6/site-packages/pyasdf/asdf_data_set.py:51: ASDFWarning: Data 'L0.AE41/L0.AE41.00.FHZ__2018-02-09T22:50:15__2018-02-09T22:50:15__raw_record' already exists in file. Will not be added!\n",
      "  closure_warn(self, *args, **kwargs)\n",
      "/home/jes-lab/anaconda3/envs/obspy/lib/python3.6/site-packages/pyasdf/asdf_data_set.py:51: ASDFWarning: Data 'L0.AE41/L0.AE41.00.FHZ__2018-02-09T22:50:16__2018-02-09T22:50:16__raw_record' already exists in file. Will not be added!\n",
      "  closure_warn(self, *args, **kwargs)\n",
      "/home/jes-lab/anaconda3/envs/obspy/lib/python3.6/site-packages/pyasdf/asdf_data_set.py:51: ASDFWarning: Data 'L0.AE41/L0.AE41.00.FHZ__2018-02-09T22:50:16__2018-02-09T22:50:16__raw_record' already exists in file. Will not be added!\n",
      "  closure_warn(self, *args, **kwargs)\n",
      "/home/jes-lab/anaconda3/envs/obspy/lib/python3.6/site-packages/pyasdf/asdf_data_set.py:51: ASDFWarning: Data 'L0.AE41/L0.AE41.00.FHZ__2018-02-09T22:50:17__2018-02-09T22:50:17__raw_record' already exists in file. Will not be added!\n",
      "  closure_warn(self, *args, **kwargs)\n",
      "/home/jes-lab/anaconda3/envs/obspy/lib/python3.6/site-packages/pyasdf/asdf_data_set.py:51: ASDFWarning: Data 'L0.AE41/L0.AE41.00.FHZ__2018-02-09T22:50:17__2018-02-09T22:50:17__raw_record' already exists in file. Will not be added!\n",
      "  closure_warn(self, *args, **kwargs)\n",
      "/home/jes-lab/anaconda3/envs/obspy/lib/python3.6/site-packages/pyasdf/asdf_data_set.py:51: ASDFWarning: Data 'L0.AE41/L0.AE41.00.FHZ__2018-02-09T22:50:17__2018-02-09T22:50:17__raw_record' already exists in file. Will not be added!\n",
      "  closure_warn(self, *args, **kwargs)\n",
      "/home/jes-lab/anaconda3/envs/obspy/lib/python3.6/site-packages/pyasdf/asdf_data_set.py:51: ASDFWarning: Data 'L0.AE41/L0.AE41.00.FHZ__2018-02-09T22:50:17__2018-02-09T22:50:17__raw_record' already exists in file. Will not be added!\n",
      "  closure_warn(self, *args, **kwargs)\n",
      "/home/jes-lab/anaconda3/envs/obspy/lib/python3.6/site-packages/pyasdf/asdf_data_set.py:51: ASDFWarning: Data 'L0.AE41/L0.AE41.00.FHZ__2018-02-09T22:50:17__2018-02-09T22:50:17__raw_record' already exists in file. Will not be added!\n",
      "  closure_warn(self, *args, **kwargs)\n",
      "/home/jes-lab/anaconda3/envs/obspy/lib/python3.6/site-packages/pyasdf/asdf_data_set.py:51: ASDFWarning: Data 'L0.AE16/L0.AE16.00.FHZ__2018-02-09T22:36:00__2018-02-09T22:36:01__raw_record' already exists in file. Will not be added!\n",
      "  closure_warn(self, *args, **kwargs)\n",
      "/home/jes-lab/anaconda3/envs/obspy/lib/python3.6/site-packages/pyasdf/asdf_data_set.py:51: ASDFWarning: Data 'L0.AE16/L0.AE16.00.FHZ__2018-02-09T22:36:01__2018-02-09T22:36:01__raw_record' already exists in file. Will not be added!\n",
      "  closure_warn(self, *args, **kwargs)\n",
      "/home/jes-lab/anaconda3/envs/obspy/lib/python3.6/site-packages/pyasdf/asdf_data_set.py:51: ASDFWarning: Data 'L0.AE16/L0.AE16.00.FHZ__2018-02-09T22:36:01__2018-02-09T22:36:01__raw_record' already exists in file. Will not be added!\n",
      "  closure_warn(self, *args, **kwargs)\n",
      "/home/jes-lab/anaconda3/envs/obspy/lib/python3.6/site-packages/pyasdf/asdf_data_set.py:51: ASDFWarning: Data 'L0.AE16/L0.AE16.00.FHZ__2018-02-09T22:36:01__2018-02-09T22:36:01__raw_record' already exists in file. Will not be added!\n",
      "  closure_warn(self, *args, **kwargs)\n",
      "/home/jes-lab/anaconda3/envs/obspy/lib/python3.6/site-packages/pyasdf/asdf_data_set.py:51: ASDFWarning: Data 'L0.AE16/L0.AE16.00.FHZ__2018-02-09T22:36:01__2018-02-09T22:36:01__raw_record' already exists in file. Will not be added!\n",
      "  closure_warn(self, *args, **kwargs)\n",
      "/home/jes-lab/anaconda3/envs/obspy/lib/python3.6/site-packages/pyasdf/asdf_data_set.py:51: ASDFWarning: Data 'L0.AE16/L0.AE16.00.FHZ__2018-02-09T22:36:01__2018-02-09T22:36:01__raw_record' already exists in file. Will not be added!\n",
      "  closure_warn(self, *args, **kwargs)\n",
      "/home/jes-lab/anaconda3/envs/obspy/lib/python3.6/site-packages/pyasdf/asdf_data_set.py:51: ASDFWarning: Data 'L0.AE16/L0.AE16.00.FHZ__2018-02-09T22:46:00__2018-02-09T22:46:00__raw_record' already exists in file. Will not be added!\n",
      "  closure_warn(self, *args, **kwargs)\n",
      "/home/jes-lab/anaconda3/envs/obspy/lib/python3.6/site-packages/pyasdf/asdf_data_set.py:51: ASDFWarning: Data 'L0.AE16/L0.AE16.00.FHZ__2018-02-09T22:46:00__2018-02-09T22:46:00__raw_record' already exists in file. Will not be added!\n",
      "  closure_warn(self, *args, **kwargs)\n",
      "/home/jes-lab/anaconda3/envs/obspy/lib/python3.6/site-packages/pyasdf/asdf_data_set.py:51: ASDFWarning: Data 'L0.AE16/L0.AE16.00.FHZ__2018-02-09T22:46:00__2018-02-09T22:46:00__raw_record' already exists in file. Will not be added!\n",
      "  closure_warn(self, *args, **kwargs)\n",
      "/home/jes-lab/anaconda3/envs/obspy/lib/python3.6/site-packages/pyasdf/asdf_data_set.py:51: ASDFWarning: Data 'L0.AE16/L0.AE16.00.FHZ__2018-02-09T22:50:13__2018-02-09T22:50:13__raw_record' already exists in file. Will not be added!\n",
      "  closure_warn(self, *args, **kwargs)\n",
      "/home/jes-lab/anaconda3/envs/obspy/lib/python3.6/site-packages/pyasdf/asdf_data_set.py:51: ASDFWarning: Data 'L0.AE16/L0.AE16.00.FHZ__2018-02-09T22:50:13__2018-02-09T22:50:13__raw_record' already exists in file. Will not be added!\n",
      "  closure_warn(self, *args, **kwargs)\n",
      "/home/jes-lab/anaconda3/envs/obspy/lib/python3.6/site-packages/pyasdf/asdf_data_set.py:51: ASDFWarning: Data 'L0.AE16/L0.AE16.00.FHZ__2018-02-09T22:50:15__2018-02-09T22:50:15__raw_record' already exists in file. Will not be added!\n",
      "  closure_warn(self, *args, **kwargs)\n",
      "/home/jes-lab/anaconda3/envs/obspy/lib/python3.6/site-packages/pyasdf/asdf_data_set.py:51: ASDFWarning: Data 'L0.AE16/L0.AE16.00.FHZ__2018-02-09T22:50:16__2018-02-09T22:50:16__raw_record' already exists in file. Will not be added!\n",
      "  closure_warn(self, *args, **kwargs)\n",
      "/home/jes-lab/anaconda3/envs/obspy/lib/python3.6/site-packages/pyasdf/asdf_data_set.py:51: ASDFWarning: Data 'L0.AE16/L0.AE16.00.FHZ__2018-02-09T22:50:16__2018-02-09T22:50:16__raw_record' already exists in file. Will not be added!\n",
      "  closure_warn(self, *args, **kwargs)\n",
      "/home/jes-lab/anaconda3/envs/obspy/lib/python3.6/site-packages/pyasdf/asdf_data_set.py:51: ASDFWarning: Data 'L0.AE16/L0.AE16.00.FHZ__2018-02-09T22:50:17__2018-02-09T22:50:17__raw_record' already exists in file. Will not be added!\n",
      "  closure_warn(self, *args, **kwargs)\n",
      "/home/jes-lab/anaconda3/envs/obspy/lib/python3.6/site-packages/pyasdf/asdf_data_set.py:51: ASDFWarning: Data 'L0.AE16/L0.AE16.00.FHZ__2018-02-09T22:50:17__2018-02-09T22:50:17__raw_record' already exists in file. Will not be added!\n",
      "  closure_warn(self, *args, **kwargs)\n",
      "/home/jes-lab/anaconda3/envs/obspy/lib/python3.6/site-packages/pyasdf/asdf_data_set.py:51: ASDFWarning: Data 'L0.AE16/L0.AE16.00.FHZ__2018-02-09T22:50:17__2018-02-09T22:50:17__raw_record' already exists in file. Will not be added!\n",
      "  closure_warn(self, *args, **kwargs)\n",
      "/home/jes-lab/anaconda3/envs/obspy/lib/python3.6/site-packages/pyasdf/asdf_data_set.py:51: ASDFWarning: Data 'L0.AE16/L0.AE16.00.FHZ__2018-02-09T22:50:17__2018-02-09T22:50:17__raw_record' already exists in file. Will not be added!\n",
      "  closure_warn(self, *args, **kwargs)\n",
      "/home/jes-lab/anaconda3/envs/obspy/lib/python3.6/site-packages/pyasdf/asdf_data_set.py:51: ASDFWarning: Data 'L0.AE16/L0.AE16.00.FHZ__2018-02-09T22:50:17__2018-02-09T22:50:17__raw_record' already exists in file. Will not be added!\n",
      "  closure_warn(self, *args, **kwargs)\n",
      "/home/jes-lab/anaconda3/envs/obspy/lib/python3.6/site-packages/pyasdf/asdf_data_set.py:51: ASDFWarning: Data 'L0.AE23/L0.AE23.00.FHZ__2018-02-09T22:36:00__2018-02-09T22:36:01__raw_record' already exists in file. Will not be added!\n",
      "  closure_warn(self, *args, **kwargs)\n"
     ]
    },
    {
     "name": "stderr",
     "output_type": "stream",
     "text": [
      "/home/jes-lab/anaconda3/envs/obspy/lib/python3.6/site-packages/pyasdf/asdf_data_set.py:51: ASDFWarning: Data 'L0.AE23/L0.AE23.00.FHZ__2018-02-09T22:36:01__2018-02-09T22:36:01__raw_record' already exists in file. Will not be added!\n",
      "  closure_warn(self, *args, **kwargs)\n",
      "/home/jes-lab/anaconda3/envs/obspy/lib/python3.6/site-packages/pyasdf/asdf_data_set.py:51: ASDFWarning: Data 'L0.AE23/L0.AE23.00.FHZ__2018-02-09T22:36:01__2018-02-09T22:36:01__raw_record' already exists in file. Will not be added!\n",
      "  closure_warn(self, *args, **kwargs)\n",
      "/home/jes-lab/anaconda3/envs/obspy/lib/python3.6/site-packages/pyasdf/asdf_data_set.py:51: ASDFWarning: Data 'L0.AE23/L0.AE23.00.FHZ__2018-02-09T22:36:01__2018-02-09T22:36:01__raw_record' already exists in file. Will not be added!\n",
      "  closure_warn(self, *args, **kwargs)\n",
      "/home/jes-lab/anaconda3/envs/obspy/lib/python3.6/site-packages/pyasdf/asdf_data_set.py:51: ASDFWarning: Data 'L0.AE23/L0.AE23.00.FHZ__2018-02-09T22:36:01__2018-02-09T22:36:01__raw_record' already exists in file. Will not be added!\n",
      "  closure_warn(self, *args, **kwargs)\n",
      "/home/jes-lab/anaconda3/envs/obspy/lib/python3.6/site-packages/pyasdf/asdf_data_set.py:51: ASDFWarning: Data 'L0.AE23/L0.AE23.00.FHZ__2018-02-09T22:36:01__2018-02-09T22:36:01__raw_record' already exists in file. Will not be added!\n",
      "  closure_warn(self, *args, **kwargs)\n",
      "/home/jes-lab/anaconda3/envs/obspy/lib/python3.6/site-packages/pyasdf/asdf_data_set.py:51: ASDFWarning: Data 'L0.AE23/L0.AE23.00.FHZ__2018-02-09T22:46:00__2018-02-09T22:46:00__raw_record' already exists in file. Will not be added!\n",
      "  closure_warn(self, *args, **kwargs)\n",
      "/home/jes-lab/anaconda3/envs/obspy/lib/python3.6/site-packages/pyasdf/asdf_data_set.py:51: ASDFWarning: Data 'L0.AE23/L0.AE23.00.FHZ__2018-02-09T22:46:00__2018-02-09T22:46:00__raw_record' already exists in file. Will not be added!\n",
      "  closure_warn(self, *args, **kwargs)\n",
      "/home/jes-lab/anaconda3/envs/obspy/lib/python3.6/site-packages/pyasdf/asdf_data_set.py:51: ASDFWarning: Data 'L0.AE23/L0.AE23.00.FHZ__2018-02-09T22:46:00__2018-02-09T22:46:00__raw_record' already exists in file. Will not be added!\n",
      "  closure_warn(self, *args, **kwargs)\n",
      "/home/jes-lab/anaconda3/envs/obspy/lib/python3.6/site-packages/pyasdf/asdf_data_set.py:51: ASDFWarning: Data 'L0.AE23/L0.AE23.00.FHZ__2018-02-09T22:50:13__2018-02-09T22:50:13__raw_record' already exists in file. Will not be added!\n",
      "  closure_warn(self, *args, **kwargs)\n",
      "/home/jes-lab/anaconda3/envs/obspy/lib/python3.6/site-packages/pyasdf/asdf_data_set.py:51: ASDFWarning: Data 'L0.AE23/L0.AE23.00.FHZ__2018-02-09T22:50:13__2018-02-09T22:50:13__raw_record' already exists in file. Will not be added!\n",
      "  closure_warn(self, *args, **kwargs)\n",
      "/home/jes-lab/anaconda3/envs/obspy/lib/python3.6/site-packages/pyasdf/asdf_data_set.py:51: ASDFWarning: Data 'L0.AE23/L0.AE23.00.FHZ__2018-02-09T22:50:15__2018-02-09T22:50:15__raw_record' already exists in file. Will not be added!\n",
      "  closure_warn(self, *args, **kwargs)\n",
      "/home/jes-lab/anaconda3/envs/obspy/lib/python3.6/site-packages/pyasdf/asdf_data_set.py:51: ASDFWarning: Data 'L0.AE23/L0.AE23.00.FHZ__2018-02-09T22:50:16__2018-02-09T22:50:16__raw_record' already exists in file. Will not be added!\n",
      "  closure_warn(self, *args, **kwargs)\n",
      "/home/jes-lab/anaconda3/envs/obspy/lib/python3.6/site-packages/pyasdf/asdf_data_set.py:51: ASDFWarning: Data 'L0.AE23/L0.AE23.00.FHZ__2018-02-09T22:50:16__2018-02-09T22:50:16__raw_record' already exists in file. Will not be added!\n",
      "  closure_warn(self, *args, **kwargs)\n",
      "/home/jes-lab/anaconda3/envs/obspy/lib/python3.6/site-packages/pyasdf/asdf_data_set.py:51: ASDFWarning: Data 'L0.AE23/L0.AE23.00.FHZ__2018-02-09T22:50:17__2018-02-09T22:50:17__raw_record' already exists in file. Will not be added!\n",
      "  closure_warn(self, *args, **kwargs)\n",
      "/home/jes-lab/anaconda3/envs/obspy/lib/python3.6/site-packages/pyasdf/asdf_data_set.py:51: ASDFWarning: Data 'L0.AE23/L0.AE23.00.FHZ__2018-02-09T22:50:17__2018-02-09T22:50:17__raw_record' already exists in file. Will not be added!\n",
      "  closure_warn(self, *args, **kwargs)\n",
      "/home/jes-lab/anaconda3/envs/obspy/lib/python3.6/site-packages/pyasdf/asdf_data_set.py:51: ASDFWarning: Data 'L0.AE23/L0.AE23.00.FHZ__2018-02-09T22:50:17__2018-02-09T22:50:17__raw_record' already exists in file. Will not be added!\n",
      "  closure_warn(self, *args, **kwargs)\n",
      "/home/jes-lab/anaconda3/envs/obspy/lib/python3.6/site-packages/pyasdf/asdf_data_set.py:51: ASDFWarning: Data 'L0.AE23/L0.AE23.00.FHZ__2018-02-09T22:50:17__2018-02-09T22:50:17__raw_record' already exists in file. Will not be added!\n",
      "  closure_warn(self, *args, **kwargs)\n",
      "/home/jes-lab/anaconda3/envs/obspy/lib/python3.6/site-packages/pyasdf/asdf_data_set.py:51: ASDFWarning: Data 'L0.AE23/L0.AE23.00.FHZ__2018-02-09T22:50:17__2018-02-09T22:50:17__raw_record' already exists in file. Will not be added!\n",
      "  closure_warn(self, *args, **kwargs)\n",
      "/home/jes-lab/anaconda3/envs/obspy/lib/python3.6/site-packages/pyasdf/asdf_data_set.py:51: ASDFWarning: Data 'L0.AE43/L0.AE43.00.FHZ__2018-02-09T22:36:00__2018-02-09T22:36:01__raw_record' already exists in file. Will not be added!\n",
      "  closure_warn(self, *args, **kwargs)\n",
      "/home/jes-lab/anaconda3/envs/obspy/lib/python3.6/site-packages/pyasdf/asdf_data_set.py:51: ASDFWarning: Data 'L0.AE43/L0.AE43.00.FHZ__2018-02-09T22:36:01__2018-02-09T22:36:01__raw_record' already exists in file. Will not be added!\n",
      "  closure_warn(self, *args, **kwargs)\n",
      "/home/jes-lab/anaconda3/envs/obspy/lib/python3.6/site-packages/pyasdf/asdf_data_set.py:51: ASDFWarning: Data 'L0.AE43/L0.AE43.00.FHZ__2018-02-09T22:36:01__2018-02-09T22:36:01__raw_record' already exists in file. Will not be added!\n",
      "  closure_warn(self, *args, **kwargs)\n",
      "/home/jes-lab/anaconda3/envs/obspy/lib/python3.6/site-packages/pyasdf/asdf_data_set.py:51: ASDFWarning: Data 'L0.AE43/L0.AE43.00.FHZ__2018-02-09T22:36:01__2018-02-09T22:36:01__raw_record' already exists in file. Will not be added!\n",
      "  closure_warn(self, *args, **kwargs)\n",
      "/home/jes-lab/anaconda3/envs/obspy/lib/python3.6/site-packages/pyasdf/asdf_data_set.py:51: ASDFWarning: Data 'L0.AE43/L0.AE43.00.FHZ__2018-02-09T22:36:01__2018-02-09T22:36:01__raw_record' already exists in file. Will not be added!\n",
      "  closure_warn(self, *args, **kwargs)\n",
      "/home/jes-lab/anaconda3/envs/obspy/lib/python3.6/site-packages/pyasdf/asdf_data_set.py:51: ASDFWarning: Data 'L0.AE43/L0.AE43.00.FHZ__2018-02-09T22:36:01__2018-02-09T22:36:01__raw_record' already exists in file. Will not be added!\n",
      "  closure_warn(self, *args, **kwargs)\n",
      "/home/jes-lab/anaconda3/envs/obspy/lib/python3.6/site-packages/pyasdf/asdf_data_set.py:51: ASDFWarning: Data 'L0.AE43/L0.AE43.00.FHZ__2018-02-09T22:46:00__2018-02-09T22:46:00__raw_record' already exists in file. Will not be added!\n",
      "  closure_warn(self, *args, **kwargs)\n",
      "/home/jes-lab/anaconda3/envs/obspy/lib/python3.6/site-packages/pyasdf/asdf_data_set.py:51: ASDFWarning: Data 'L0.AE43/L0.AE43.00.FHZ__2018-02-09T22:46:00__2018-02-09T22:46:00__raw_record' already exists in file. Will not be added!\n",
      "  closure_warn(self, *args, **kwargs)\n",
      "/home/jes-lab/anaconda3/envs/obspy/lib/python3.6/site-packages/pyasdf/asdf_data_set.py:51: ASDFWarning: Data 'L0.AE43/L0.AE43.00.FHZ__2018-02-09T22:46:00__2018-02-09T22:46:00__raw_record' already exists in file. Will not be added!\n",
      "  closure_warn(self, *args, **kwargs)\n",
      "/home/jes-lab/anaconda3/envs/obspy/lib/python3.6/site-packages/pyasdf/asdf_data_set.py:51: ASDFWarning: Data 'L0.AE43/L0.AE43.00.FHZ__2018-02-09T22:50:13__2018-02-09T22:50:13__raw_record' already exists in file. Will not be added!\n",
      "  closure_warn(self, *args, **kwargs)\n",
      "/home/jes-lab/anaconda3/envs/obspy/lib/python3.6/site-packages/pyasdf/asdf_data_set.py:51: ASDFWarning: Data 'L0.AE43/L0.AE43.00.FHZ__2018-02-09T22:50:13__2018-02-09T22:50:13__raw_record' already exists in file. Will not be added!\n",
      "  closure_warn(self, *args, **kwargs)\n",
      "/home/jes-lab/anaconda3/envs/obspy/lib/python3.6/site-packages/pyasdf/asdf_data_set.py:51: ASDFWarning: Data 'L0.AE43/L0.AE43.00.FHZ__2018-02-09T22:50:15__2018-02-09T22:50:15__raw_record' already exists in file. Will not be added!\n",
      "  closure_warn(self, *args, **kwargs)\n",
      "/home/jes-lab/anaconda3/envs/obspy/lib/python3.6/site-packages/pyasdf/asdf_data_set.py:51: ASDFWarning: Data 'L0.AE43/L0.AE43.00.FHZ__2018-02-09T22:50:16__2018-02-09T22:50:16__raw_record' already exists in file. Will not be added!\n",
      "  closure_warn(self, *args, **kwargs)\n"
     ]
    },
    {
     "name": "stderr",
     "output_type": "stream",
     "text": [
      "/home/jes-lab/anaconda3/envs/obspy/lib/python3.6/site-packages/pyasdf/asdf_data_set.py:51: ASDFWarning: Data 'L0.AE43/L0.AE43.00.FHZ__2018-02-09T22:50:16__2018-02-09T22:50:16__raw_record' already exists in file. Will not be added!\n",
      "  closure_warn(self, *args, **kwargs)\n",
      "/home/jes-lab/anaconda3/envs/obspy/lib/python3.6/site-packages/pyasdf/asdf_data_set.py:51: ASDFWarning: Data 'L0.AE43/L0.AE43.00.FHZ__2018-02-09T22:50:17__2018-02-09T22:50:17__raw_record' already exists in file. Will not be added!\n",
      "  closure_warn(self, *args, **kwargs)\n",
      "/home/jes-lab/anaconda3/envs/obspy/lib/python3.6/site-packages/pyasdf/asdf_data_set.py:51: ASDFWarning: Data 'L0.AE43/L0.AE43.00.FHZ__2018-02-09T22:50:17__2018-02-09T22:50:17__raw_record' already exists in file. Will not be added!\n",
      "  closure_warn(self, *args, **kwargs)\n",
      "/home/jes-lab/anaconda3/envs/obspy/lib/python3.6/site-packages/pyasdf/asdf_data_set.py:51: ASDFWarning: Data 'L0.AE43/L0.AE43.00.FHZ__2018-02-09T22:50:17__2018-02-09T22:50:17__raw_record' already exists in file. Will not be added!\n",
      "  closure_warn(self, *args, **kwargs)\n",
      "/home/jes-lab/anaconda3/envs/obspy/lib/python3.6/site-packages/pyasdf/asdf_data_set.py:51: ASDFWarning: Data 'L0.AE43/L0.AE43.00.FHZ__2018-02-09T22:50:17__2018-02-09T22:50:17__raw_record' already exists in file. Will not be added!\n",
      "  closure_warn(self, *args, **kwargs)\n",
      "/home/jes-lab/anaconda3/envs/obspy/lib/python3.6/site-packages/pyasdf/asdf_data_set.py:51: ASDFWarning: Data 'L0.AE43/L0.AE43.00.FHZ__2018-02-09T22:50:17__2018-02-09T22:50:17__raw_record' already exists in file. Will not be added!\n",
      "  closure_warn(self, *args, **kwargs)\n",
      "/home/jes-lab/anaconda3/envs/obspy/lib/python3.6/site-packages/pyasdf/asdf_data_set.py:51: ASDFWarning: Data 'L0.AE33/L0.AE33.00.FHZ__2018-02-09T22:36:00__2018-02-09T22:36:01__raw_record' already exists in file. Will not be added!\n",
      "  closure_warn(self, *args, **kwargs)\n",
      "/home/jes-lab/anaconda3/envs/obspy/lib/python3.6/site-packages/pyasdf/asdf_data_set.py:51: ASDFWarning: Data 'L0.AE33/L0.AE33.00.FHZ__2018-02-09T22:36:01__2018-02-09T22:36:01__raw_record' already exists in file. Will not be added!\n",
      "  closure_warn(self, *args, **kwargs)\n",
      "/home/jes-lab/anaconda3/envs/obspy/lib/python3.6/site-packages/pyasdf/asdf_data_set.py:51: ASDFWarning: Data 'L0.AE33/L0.AE33.00.FHZ__2018-02-09T22:36:01__2018-02-09T22:36:01__raw_record' already exists in file. Will not be added!\n",
      "  closure_warn(self, *args, **kwargs)\n",
      "/home/jes-lab/anaconda3/envs/obspy/lib/python3.6/site-packages/pyasdf/asdf_data_set.py:51: ASDFWarning: Data 'L0.AE33/L0.AE33.00.FHZ__2018-02-09T22:36:01__2018-02-09T22:36:01__raw_record' already exists in file. Will not be added!\n",
      "  closure_warn(self, *args, **kwargs)\n",
      "/home/jes-lab/anaconda3/envs/obspy/lib/python3.6/site-packages/pyasdf/asdf_data_set.py:51: ASDFWarning: Data 'L0.AE33/L0.AE33.00.FHZ__2018-02-09T22:36:01__2018-02-09T22:36:01__raw_record' already exists in file. Will not be added!\n",
      "  closure_warn(self, *args, **kwargs)\n",
      "/home/jes-lab/anaconda3/envs/obspy/lib/python3.6/site-packages/pyasdf/asdf_data_set.py:51: ASDFWarning: Data 'L0.AE33/L0.AE33.00.FHZ__2018-02-09T22:36:01__2018-02-09T22:36:01__raw_record' already exists in file. Will not be added!\n",
      "  closure_warn(self, *args, **kwargs)\n",
      "/home/jes-lab/anaconda3/envs/obspy/lib/python3.6/site-packages/pyasdf/asdf_data_set.py:51: ASDFWarning: Data 'L0.AE33/L0.AE33.00.FHZ__2018-02-09T22:46:00__2018-02-09T22:46:00__raw_record' already exists in file. Will not be added!\n",
      "  closure_warn(self, *args, **kwargs)\n",
      "/home/jes-lab/anaconda3/envs/obspy/lib/python3.6/site-packages/pyasdf/asdf_data_set.py:51: ASDFWarning: Data 'L0.AE33/L0.AE33.00.FHZ__2018-02-09T22:46:00__2018-02-09T22:46:00__raw_record' already exists in file. Will not be added!\n",
      "  closure_warn(self, *args, **kwargs)\n",
      "/home/jes-lab/anaconda3/envs/obspy/lib/python3.6/site-packages/pyasdf/asdf_data_set.py:51: ASDFWarning: Data 'L0.AE33/L0.AE33.00.FHZ__2018-02-09T22:46:00__2018-02-09T22:46:00__raw_record' already exists in file. Will not be added!\n",
      "  closure_warn(self, *args, **kwargs)\n",
      "/home/jes-lab/anaconda3/envs/obspy/lib/python3.6/site-packages/pyasdf/asdf_data_set.py:51: ASDFWarning: Data 'L0.AE33/L0.AE33.00.FHZ__2018-02-09T22:50:13__2018-02-09T22:50:13__raw_record' already exists in file. Will not be added!\n",
      "  closure_warn(self, *args, **kwargs)\n",
      "/home/jes-lab/anaconda3/envs/obspy/lib/python3.6/site-packages/pyasdf/asdf_data_set.py:51: ASDFWarning: Data 'L0.AE33/L0.AE33.00.FHZ__2018-02-09T22:50:13__2018-02-09T22:50:13__raw_record' already exists in file. Will not be added!\n",
      "  closure_warn(self, *args, **kwargs)\n",
      "/home/jes-lab/anaconda3/envs/obspy/lib/python3.6/site-packages/pyasdf/asdf_data_set.py:51: ASDFWarning: Data 'L0.AE33/L0.AE33.00.FHZ__2018-02-09T22:50:15__2018-02-09T22:50:15__raw_record' already exists in file. Will not be added!\n",
      "  closure_warn(self, *args, **kwargs)\n",
      "/home/jes-lab/anaconda3/envs/obspy/lib/python3.6/site-packages/pyasdf/asdf_data_set.py:51: ASDFWarning: Data 'L0.AE33/L0.AE33.00.FHZ__2018-02-09T22:50:16__2018-02-09T22:50:16__raw_record' already exists in file. Will not be added!\n",
      "  closure_warn(self, *args, **kwargs)\n",
      "/home/jes-lab/anaconda3/envs/obspy/lib/python3.6/site-packages/pyasdf/asdf_data_set.py:51: ASDFWarning: Data 'L0.AE33/L0.AE33.00.FHZ__2018-02-09T22:50:16__2018-02-09T22:50:16__raw_record' already exists in file. Will not be added!\n",
      "  closure_warn(self, *args, **kwargs)\n",
      "/home/jes-lab/anaconda3/envs/obspy/lib/python3.6/site-packages/pyasdf/asdf_data_set.py:51: ASDFWarning: Data 'L0.AE33/L0.AE33.00.FHZ__2018-02-09T22:50:17__2018-02-09T22:50:17__raw_record' already exists in file. Will not be added!\n",
      "  closure_warn(self, *args, **kwargs)\n",
      "/home/jes-lab/anaconda3/envs/obspy/lib/python3.6/site-packages/pyasdf/asdf_data_set.py:51: ASDFWarning: Data 'L0.AE33/L0.AE33.00.FHZ__2018-02-09T22:50:17__2018-02-09T22:50:17__raw_record' already exists in file. Will not be added!\n",
      "  closure_warn(self, *args, **kwargs)\n",
      "/home/jes-lab/anaconda3/envs/obspy/lib/python3.6/site-packages/pyasdf/asdf_data_set.py:51: ASDFWarning: Data 'L0.AE33/L0.AE33.00.FHZ__2018-02-09T22:50:17__2018-02-09T22:50:17__raw_record' already exists in file. Will not be added!\n",
      "  closure_warn(self, *args, **kwargs)\n",
      "/home/jes-lab/anaconda3/envs/obspy/lib/python3.6/site-packages/pyasdf/asdf_data_set.py:51: ASDFWarning: Data 'L0.AE33/L0.AE33.00.FHZ__2018-02-09T22:50:17__2018-02-09T22:50:17__raw_record' already exists in file. Will not be added!\n",
      "  closure_warn(self, *args, **kwargs)\n",
      "/home/jes-lab/anaconda3/envs/obspy/lib/python3.6/site-packages/pyasdf/asdf_data_set.py:51: ASDFWarning: Data 'L0.AE33/L0.AE33.00.FHZ__2018-02-09T22:50:17__2018-02-09T22:50:17__raw_record' already exists in file. Will not be added!\n",
      "  closure_warn(self, *args, **kwargs)\n"
     ]
    }
   ],
   "source": [
    "# read the raw data from each channel into a stream, one trace at a time\n",
    "# first build some basic Stats\n",
    "statn_stats = Stats()\n",
    "statn_stats.network = 'L0'\n",
    "statn_stats.channel = 'FHZ'\n",
    "statn_stats.location = '00'\n",
    "statn_stats.sampling_rate = 20e6\n",
    "\n",
    "# make sure times will retain full precision\n",
    "# the ElSys max precision seems to be nanoseconds\n",
    "obspy.UTCDateTime.DEFAULT_PRECISION = 9\n",
    "\n",
    "# iterate through stations, following the ordered_stations A1-D4 sort\n",
    "# the number of the (ordered) station is the TranAX channel A1-D4->1-16, here Tchan\n",
    "for Tchan,statname in enumerate(ordered_stations,1):\n",
    "    # add the station to the stats\n",
    "    statn_stats.station = statname\n",
    "    \n",
    "    # create a stream for the station\n",
    "    statn_stream = Stream()\n",
    "#     set_trace()\n",
    "    \n",
    "    # iterate through continuous data segments\n",
    "    # TranAX calls these Blocks, obspy calls them Traces\n",
    "    for blk in range(1,nblocks+1):\n",
    "        # get the trace start time\n",
    "        statn_stats.starttime = (obspy.UTCDateTime(tpc5.getStartTime(f,1)) # gives the start of the whole recording\n",
    "                                + tpc5.getTriggerTime(f,1,block=blk) # seconds from start to trigger\n",
    "                                - tpc5.getTriggerSample(f,1,block=blk)/statn_stats.sampling_rate) # seconds from trigger to block start\n",
    "        \n",
    "        # get the raw voltage data\n",
    "        raw = tpc5.getVoltageData(f, Tchan, block=blk)\n",
    "        # give the stats the length, otherwise it takes 0 points\n",
    "        statn_stats.npts = len(raw)\n",
    "        statn_stream += Trace(raw ,statn_stats)\n",
    "    \n",
    "    # add the complete stream to the ASDF object\n",
    "    ds.add_waveforms(statn_stream, \"raw_record\")"
   ]
  },
  {
   "cell_type": "code",
   "execution_count": 133,
   "metadata": {},
   "outputs": [],
   "source": [
    "# [len(tpc5.getVoltageData(f,1,block=i)) for i in range(1,nblocks+1)] # length varies\n",
    "statn_stats.station = ordered_stations[0]\n",
    "statn_stream = Stream()\n",
    "statn_stats.starttime = (obspy.UTCDateTime(tpc5.getStartTime(f,1)) # gives the start of the whole recording\n",
    "                                + tpc5.getTriggerTime(f,1,block=1) # seconds from start to trigger\n",
    "                                - tpc5.getTriggerSample(f,1,block=1)/statn_stats.sampling_rate) # seconds from trigger to block start\n",
    "v = tpc5.getVoltageData(f,1)\n",
    "statn_stats.npts = len(v)\n",
    "statn_stream += Trace(v, statn_stats)"
   ]
  },
  {
   "cell_type": "code",
   "execution_count": 146,
   "metadata": {},
   "outputs": [
    {
     "data": {
      "text/plain": [
       "'2018-02-09T22:27:24.123456'"
      ]
     },
     "execution_count": 146,
     "metadata": {},
     "output_type": "execute_result"
    }
   ],
   "source": [
    "starttime.strftime(\"%Y-%m-%dT%H:%M:%S.%f\")"
   ]
  },
  {
   "cell_type": "code",
   "execution_count": 138,
   "metadata": {},
   "outputs": [
    {
     "data": {
      "text/plain": [
       "16 Trace(s) in Stream:\n",
       "L0.AE27.00.FHZ | 2018-02-09T22:30:51.423920384Z - 2018-02-09T22:30:51.460705934Z | 20000000.0 Hz, 735712 samples\n",
       "L0.AE27.00.FHZ | 2018-02-09T22:30:59.677762816Z - 2018-02-09T22:30:59.710336666Z | 20000000.0 Hz, 651478 samples\n",
       "L0.AE27.00.FHZ | 2018-02-09T22:31:33.355811328Z - 2018-02-09T22:31:33.398032628Z | 20000000.0 Hz, 844427 samples\n",
       "L0.AE27.00.FHZ | 2018-02-09T22:32:38.097585664Z - 2018-02-09T22:32:38.142654964Z | 20000000.0 Hz, 901387 samples\n",
       "L0.AE27.00.FHZ | 2018-02-09T22:36:00.631816448Z - 2018-02-09T22:36:00.664316398Z | 20000000.0 Hz, 650000 samples\n",
       "L0.AE27.00.FHZ | 2018-02-09T22:36:00.976014592Z - 2018-02-09T22:36:01.008514542Z | 20000000.0 Hz, 650000 samples\n",
       "L0.AE27.00.FHZ | 2018-02-09T22:36:01.172681472Z - 2018-02-09T22:36:01.205183972Z | 20000000.0 Hz, 650051 samples\n",
       "L0.AE27.00.FHZ | 2018-02-09T22:45:59.536139008Z - 2018-02-09T22:45:59.568639208Z | 20000000.0 Hz, 650005 samples\n",
       "L0.AE27.00.FHZ | 2018-02-09T22:46:00.544065792Z - 2018-02-09T22:46:00.576565742Z | 20000000.0 Hz, 650000 samples\n",
       "L0.AE27.00.FHZ | 2018-02-09T22:50:04.208317184Z - 2018-02-09T22:50:04.240817134Z | 20000000.0 Hz, 650000 samples\n",
       "L0.AE27.00.FHZ | 2018-02-09T22:50:13.494263552Z - 2018-02-09T22:50:13.526763702Z | 20000000.0 Hz, 650004 samples\n",
       "L0.AE27.00.FHZ | 2018-02-09T22:50:14.608812800Z - 2018-02-09T22:50:14.641312750Z | 20000000.0 Hz, 650000 samples\n",
       "L0.AE27.00.FHZ | 2018-02-09T22:50:15.587534848Z - 2018-02-09T22:50:15.620035598Z | 20000000.0 Hz, 650016 samples\n",
       "L0.AE27.00.FHZ | 2018-02-09T22:50:15.985774848Z - 2018-02-09T22:50:16.018274998Z | 20000000.0 Hz, 650004 samples\n",
       "L0.AE27.00.FHZ | 2018-02-09T22:50:16.135962112Z - 2018-02-09T22:50:16.168467612Z | 20000000.0 Hz, 650111 samples\n",
       "L0.AE27.00.FHZ | 2018-02-09T22:50:17.072935936Z - 2018-02-09T22:50:17.105436836Z | 20000000.0 Hz, 650019 samples"
      ]
     },
     "execution_count": 138,
     "metadata": {},
     "output_type": "execute_result"
    }
   ],
   "source": [
    "ds.waveforms.L0_AE27.raw_record"
   ]
  },
  {
   "cell_type": "code",
   "execution_count": 114,
   "metadata": {},
   "outputs": [
    {
     "data": {
      "text/plain": [
       "         network: L0\n",
       "         station: AE27\n",
       "        location: 00\n",
       "         channel: FHZ\n",
       "       starttime: 2018-02-09T22:30:51.423920384Z\n",
       "         endtime: 2018-02-09T22:30:51.423920384Z\n",
       "   sampling_rate: 20000000.0\n",
       "           delta: 5e-08\n",
       "            npts: 0\n",
       "           calib: 1.0\n",
       "         _format: ASDF\n",
       "            asdf: AttribDict({'format_version': '1.0.1', 'tag': 'raw_record'})"
      ]
     },
     "execution_count": 114,
     "metadata": {},
     "output_type": "execute_result"
    }
   ],
   "source": [
    "ds.waveforms.L0_AE27.raw_record[0].stats"
   ]
  },
  {
   "cell_type": "code",
   "execution_count": 82,
   "metadata": {},
   "outputs": [],
   "source": [
    "from IPython.core.debugger import set_trace"
   ]
  },
  {
   "cell_type": "markdown",
   "metadata": {},
   "source": [
    "## Extra notes\n",
    "Accessing tpc5 and hdf5 files can be a bit confusing. Here are some reminders:"
   ]
  },
  {
   "cell_type": "code",
   "execution_count": null,
   "metadata": {
    "collapsed": true
   },
   "outputs": [],
   "source": [
    "# to view the keys of an hdf5 file:\n",
    "list(f.keys())\n",
    "\n",
    "# to then access one of the keys:\n",
    "f['key']\n",
    "\n",
    "# to control the precision of a UTCDateTime\n",
    "t = obspy.UTCDateTime(precision=9)\n",
    "# doing arithmetic creates a new UTCDateTime with the default precision!\n",
    "# change the default precision for the session\n",
    "obspy.UTCDateTime.DEFAULT_PRECISION = 9"
   ]
  },
  {
   "cell_type": "code",
   "execution_count": null,
   "metadata": {},
   "outputs": [],
   "source": [
    "# clean up a botched attempt at adding raw_records\n",
    "[ds.waveforms['L0_'+code].__delitem__('raw_record') for code in ordered_stations]"
   ]
  }
 ],
 "metadata": {
  "kernelspec": {
   "display_name": "Python 3",
   "language": "python",
   "name": "python3"
  },
  "language_info": {
   "codemirror_mode": {
    "name": "ipython",
    "version": 3
   },
   "file_extension": ".py",
   "mimetype": "text/x-python",
   "name": "python",
   "nbconvert_exporter": "python",
   "pygments_lexer": "ipython3",
   "version": "3.6.4"
  }
 },
 "nbformat": 4,
 "nbformat_minor": 2
}
