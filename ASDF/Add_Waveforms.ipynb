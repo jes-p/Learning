{
 "cells": [
  {
   "cell_type": "markdown",
   "metadata": {},
   "source": [
    "# Add Waveforms\n",
    "Here we combine the experiment-specific stationXML file created in GLNN_StationXML.ipynb with the recorded AE waveforms in a tpc5 file to initialize the experiment ASDF file.\n",
    "\n",
    "ElSys has provided a module tpc5.py __[available on their website](https://www.elsys-instruments.com/en/support/tpc5_fileformat.php)__ for easy interpretation."
   ]
  },
  {
   "cell_type": "code",
   "execution_count": 6,
   "metadata": {},
   "outputs": [],
   "source": [
    "import tpc5 # get from ElSys, see link above\n",
    "import h5py\n",
    "import numpy as np\n",
    "import pyasdf\n",
    "from obspy import Stream, Trace\n",
    "from obspy.core import Stats"
   ]
  },
  {
   "cell_type": "markdown",
   "metadata": {},
   "source": [
    "First set up the ASDF dataset to fill"
   ]
  },
  {
   "cell_type": "code",
   "execution_count": 4,
   "metadata": {},
   "outputs": [],
   "source": [
    "ds = pyasdf.ASDFDataSet('020918_shear/020918ASDF.h5', compression='gzip-3')\n",
    "ds.add_stationxml('020918_shear/GLNNstations_020918.xml')"
   ]
  },
  {
   "cell_type": "markdown",
   "metadata": {},
   "source": [
    "An experiment might be made up of multiple files. Display the tpc5 files present in the experiment folder:"
   ]
  },
  {
   "cell_type": "code",
   "execution_count": 3,
   "metadata": {},
   "outputs": [
    {
     "name": "stdout",
     "output_type": "stream",
     "text": [
      "020918_shear/bd1.tpc5  020918_shear/run.tpc5\r\n",
      "020918_shear/bd2.tpc5  020918_shear/timing.tpc5\r\n"
     ]
    }
   ],
   "source": [
    "!ls 020918_shear/*.tpc5"
   ]
  },
  {
   "cell_type": "code",
   "execution_count": 2,
   "metadata": {
    "collapsed": true
   },
   "outputs": [],
   "source": [
    "f = h5py.File(\"020918_shear/bd1.tpc5\", \"r\")"
   ]
  },
  {
   "cell_type": "code",
   "execution_count": 5,
   "metadata": {},
   "outputs": [
    {
     "data": {
      "text/plain": [
       "1"
      ]
     },
     "execution_count": 5,
     "metadata": {},
     "output_type": "execute_result"
    }
   ],
   "source": [
    "# we need to know how many blocks to read\n",
    "# all channels have the same number of blocks, use channel 1\n",
    "cg = f[tpc5.getChannelGroupName(1)]\n",
    "len(cg['blocks'].keys())"
   ]
  },
  {
   "cell_type": "code",
   "execution_count": 8,
   "metadata": {},
   "outputs": [],
   "source": [
    "# read the raw data from each channel into a stream, one trace at a time\n",
    "# first build some basic Stats\n",
    "stats = Stats()\n",
    "stats.network = 'L0'\n",
    "stats.channel = 'FHZ'\n",
    "\n",
    "# get trace stats\n"
   ]
  },
  {
   "cell_type": "code",
   "execution_count": 14,
   "metadata": {},
   "outputs": [
    {
     "data": {
      "text/plain": [
       "Station AE09 (BP3)\n",
       "\tStation Code: AE09\n",
       "\tChannel Count: 1/None (Selected/Total)\n",
       "\tNone - \n",
       "\tAccess: None \n",
       "\tLatitude: 37.87, Longitude: -122.26, Elevation: 100.0 m\n",
       "\tAvailable Channels:\n",
       "\t\tAE09.00.FHZ"
      ]
     },
     "execution_count": 14,
     "metadata": {},
     "output_type": "execute_result"
    }
   ],
   "source": [
    "ds.waveforms.L0_AE09.StationXML.networks[0].stations[0]\n",
    "# ASDF appears to dump the extra attribute of the StationXML\n",
    "# Add the (x,y) locations as auxiliary data instead"
   ]
  },
  {
   "cell_type": "markdown",
   "metadata": {},
   "source": [
    "## Extra notes\n",
    "Accessing tpc5 and hdf5 files can be a bit confusing. Here are some reminders:"
   ]
  },
  {
   "cell_type": "code",
   "execution_count": null,
   "metadata": {
    "collapsed": true
   },
   "outputs": [],
   "source": [
    "# to view the keys of an hdf5 file:\n",
    "list(f.keys())\n",
    "\n",
    "# to then access one of the keys:\n",
    "f['key']"
   ]
  }
 ],
 "metadata": {
  "kernelspec": {
   "display_name": "Python 3",
   "language": "python",
   "name": "python3"
  },
  "language_info": {
   "codemirror_mode": {
    "name": "ipython",
    "version": 3
   },
   "file_extension": ".py",
   "mimetype": "text/x-python",
   "name": "python",
   "nbconvert_exporter": "python",
   "pygments_lexer": "ipython3",
   "version": "3.6.4"
  }
 },
 "nbformat": 4,
 "nbformat_minor": 2
}
