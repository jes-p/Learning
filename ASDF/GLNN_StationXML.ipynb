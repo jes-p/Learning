{
 "cells": [
  {
   "cell_type": "markdown",
   "metadata": {},
   "source": [
    "# Create a StationXML for lab\n",
    "My stations are a bit more transient than a fixed seismic array, so there's a bit of adapting to do here. The AE sensors are mounted in a base plate which has more mount points than I can use in one experiment. I'll define a station at each of the 43 possible mount points. The naming will attempt to follow the __[SEED format](https://ds.iris.edu/ds/nodes/dmc/data/formats/)__, although lab networks may benefit from a slight re-purposing in the future.\n",
    "\n",
    "__Network code__  \n",
    "The network code will be `L0` for now (local use only, no FDSN incorporation currently).\n",
    "\n",
    "__Station codes__  \n",
    "These are allowed 1 to 5 characters. I'll use four characters numbering the AE stations as `AExx`.\n",
    "\n",
    "__Location IDs__  \n",
    "A two character code for separating multiple sensors at the same station - this could be useful when I move sensors around so I'll put a `00` in for now.\n",
    "\n",
    "__Channel codes__  \n",
    "Three characters identify the sample rate, instrument type, and orientation. The sample rate options in the SEED manual max out at 5kHz and I usually sample 20MHz for the AE sensors but I'll use the max rate identifier `F`. The AE sensors are approximately high gain seismometers designated by `H` and they are all `Z` components. Every channel is thus `FHZ`."
   ]
  },
  {
   "cell_type": "code",
   "execution_count": 3,
   "metadata": {},
   "outputs": [],
   "source": [
    "import obspy\n",
    "from obspy.core.inventory import Inventory, Network, Station, Channel, Site\n",
    "import matplotlib.pyplot as plt\n",
    "import matplotlib.image as mpimg\n",
    "import numpy as np"
   ]
  },
  {
   "cell_type": "code",
   "execution_count": null,
   "metadata": {},
   "outputs": [],
   "source": [
    "# Load and visualize station array\n",
    "x_cm = 2.54 * np.array([20.459 19.079 19.079 19.079 17.699 16.7 16.7 16.318 16.318 16.318 14.9 14.9 14.8 14.8 13.958 13.958 13.568 13.5 13.5 12.188 12.188 12.188 12.188 12.188 10.9 10.9 10.808 10.418 10.418 9.6 9.6 9.4 9.4 8.048 8.048 8.048 7.7 7.7 6.668 5.288 5.288 5.288 3.920])\n",
    "y_cm = 2.54 * np.array([7.5 9.2 7.5 5.8 7.5 8.7 6.3 13.02 7.5 1.98 8.8 6.2 10.6 4.4 9.2 5.8 7.5 10.3 4.7 11.64 8.88 7.5 6.12 3.36 10.3 4.7 7.5 9.2 5.8 10.6 4.4 8.8 6.2 13.02 7.5 1.98 8.8 6.3 7.5 9.2 7.5 5.8 7.5])\n"
   ]
  }
 ],
 "metadata": {
  "kernelspec": {
   "display_name": "Python 3",
   "language": "python",
   "name": "python3"
  },
  "language_info": {
   "codemirror_mode": {
    "name": "ipython",
    "version": 3
   },
   "file_extension": ".py",
   "mimetype": "text/x-python",
   "name": "python",
   "nbconvert_exporter": "python",
   "pygments_lexer": "ipython3",
   "version": "3.6.4"
  }
 },
 "nbformat": 4,
 "nbformat_minor": 2
}
