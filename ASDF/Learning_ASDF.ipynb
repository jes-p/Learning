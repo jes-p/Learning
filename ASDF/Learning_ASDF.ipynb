{
 "cells": [
  {
   "cell_type": "markdown",
   "metadata": {},
   "source": [
    "This notebook is a scratch-pad-turned-reference. Expect to see some mistakes left in for discussion, and probably some misinformed choices.  \n",
    "Jes Parker, 2/7/18  \n",
    "jmparker@berkeley.edu"
   ]
  },
  {
   "cell_type": "markdown",
   "metadata": {},
   "source": [
    "# ASDF from scratch\n",
    "The tutorial for `pyasdf` at http://seismicdata.github.io/pyasdf/tutorial.html is a great starting point for general seismic analysis, i.e. assuming you have QuakeML and StationXML files ready to be assimilated into ASDF. My lab EQ data is all raw and messy, so I'll need to start out by creating these sub-structures."
   ]
  },
  {
   "cell_type": "markdown",
   "metadata": {},
   "source": [
    "## StationXML for the lab\n",
    "I'll follow this ObsPy tutorial on __[creating a StationXML file from scratch](https://docs.obspy.org/tutorial/code_snippets/stationxml_file_from_scratch.html)__.\n",
    "\n",
    "The lab sensor network is named the Glaser Lab Nano-Network (GLNN or GL) here, for local purposes only. This will fit into a file hierarchy of **Inventory > Network > Station > Channel**."
   ]
  },
  {
   "cell_type": "code",
   "execution_count": 1,
   "metadata": {},
   "outputs": [],
   "source": [
    "import obspy\n",
    "from obspy.core.inventory import Inventory, Network, Station, Channel, Site\n",
    "from obspy.clients.nrl import NRL"
   ]
  },
  {
   "cell_type": "markdown",
   "metadata": {},
   "source": [
    "Each of the hierarchy levels is an object that needs to be created. For now, I'm following the tutorial exactly rather than starting to incorporate real info about the GLNN."
   ]
  },
  {
   "cell_type": "code",
   "execution_count": 2,
   "metadata": {},
   "outputs": [],
   "source": [
    "inv = Inventory(\n",
    "    # We'll add networks later.\n",
    "    networks=[],\n",
    "    # The source should be the id of whoever creates the file.\n",
    "    source=\"ObsPy-Tutorial\")\n",
    "\n",
    "net = Network(\n",
    "    # This is the network code according to the SEED standard.\n",
    "    code=\"XX\",\n",
    "    # A list of stations. We'll add one later.\n",
    "    stations=[],\n",
    "    description=\"A test of stations.\",\n",
    "    # Start and end dates are optional.\n",
    "    start_date=obspy.UTCDateTime(2016, 1, 2))\n",
    "\n",
    "sta = Station(\n",
    "    # This is the station code according to the SEED standard.\n",
    "    code=\"ABC\",\n",
    "    latitude=1.0,\n",
    "    longitude=2.0,\n",
    "    elevation=345.0,\n",
    "    creation_date=obspy.UTCDateTime(2016, 1, 2),\n",
    "    site=Site(name=\"First station\"))\n",
    "\n",
    "cha = Channel(\n",
    "    # This is the channel code according to the SEED standard.\n",
    "    code=\"HHZ\",\n",
    "    # This is the location code according to the SEED standard.\n",
    "    location_code=\"\",\n",
    "    # Note that these coordinates can differ from the station coordinates.\n",
    "    latitude=1.0,\n",
    "    longitude=2.0,\n",
    "    elevation=345.0,\n",
    "    depth=10.0,\n",
    "    azimuth=0.0,\n",
    "    dip=-90.0,\n",
    "    sample_rate=200)"
   ]
  },
  {
   "cell_type": "markdown",
   "metadata": {},
   "source": [
    "Next the tutorial pulls a station response file from the Nominal Response Library. This is a repository of instrument responses for commercial seismometers, but it's unlikely to be useful for lab sensors. I'll include it here for the sake of continuing to follow the tutorial."
   ]
  },
  {
   "cell_type": "code",
   "execution_count": 3,
   "metadata": {},
   "outputs": [],
   "source": [
    "# By default this accesses the NRL online. Offline copies of the NRL can\n",
    "# also be used instead\n",
    "nrl = NRL()\n",
    "# The contents of the NRL can be explored interactively in a Python prompt,\n",
    "# see API documentation of NRL submodule:\n",
    "# http://docs.obspy.org/packages/obspy.clients.nrl.html\n",
    "# Here we assume that the end point of data logger and sensor are already known:\n",
    "response = nrl.get_response( # doctest: +SKIP\n",
    "    sensor_keys=['Streckeisen', 'STS-1', '360 seconds'],\n",
    "    datalogger_keys=['REF TEK', 'RT 130 & 130-SMA', '1', '200'])"
   ]
  },
  {
   "cell_type": "markdown",
   "metadata": {},
   "source": [
    "Combine the objects we've created."
   ]
  },
  {
   "cell_type": "code",
   "execution_count": 4,
   "metadata": {},
   "outputs": [],
   "source": [
    "cha.response = response\n",
    "sta.channels.append(cha)\n",
    "net.stations.append(sta)\n",
    "inv.networks.append(net)"
   ]
  },
  {
   "cell_type": "markdown",
   "metadata": {},
   "source": [
    "Finally write it to a StationXML file. We also force a validation against the StationXML schema to ensure it produces a valid StationXML file. There's a note that \"it's also possible to serialize to any of the other inventory output formats ObsPy supports.\" I'm not sure what that means."
   ]
  },
  {
   "cell_type": "code",
   "execution_count": 5,
   "metadata": {},
   "outputs": [],
   "source": [
    "inv.write(\"test_station.xml\", format=\"stationxml\", validate=True)"
   ]
  },
  {
   "cell_type": "code",
   "execution_count": 6,
   "metadata": {},
   "outputs": [
    {
     "name": "stdout",
     "output_type": "stream",
     "text": [
      "Learning_ASDF.ipynb  test_station.xml\r\n"
     ]
    }
   ],
   "source": [
    "!ls ./"
   ]
  },
  {
   "cell_type": "markdown",
   "metadata": {},
   "source": [
    "## QuakeML from scratch\n",
    "Next I need to figure out how to make a QuakeML file for a lab event. There is no tutorial I could find so we'll dig through the documentation. There's a quakeml package with a write function, `obspy.core.quakeml.writeQuakeML`, but it's doc has a big warning that it should only be used through the write function of an ObsPy `Catalog` object.\n",
    "\n",
    "The __[Catalog class](http://docs.obspy.org/packages/autogen/obspy.core.event.catalog.Catalog.html#obspy.core.event.catalog.Catalog)__ is just a container for __[Event objects](http://docs.obspy.org/packages/autogen/obspy.core.event.event.Event.html#obspy.core.event.event.Event)__. `Event` objects start to have actual info in them, although a bunch of it also goes into sub-classes like `Pick`, `Origin`, `Magnitude`, etc. I'll go ahead and try to create a fully populated `Event` with dummy info."
   ]
  },
  {
   "cell_type": "code",
   "execution_count": 1,
   "metadata": {},
   "outputs": [],
   "source": [
    "import obspy\n",
    "import obspy.core.event as ev"
   ]
  },
  {
   "cell_type": "markdown",
   "metadata": {},
   "source": [
    "There seems to be a lot of value in properly used __[ResourceIdentifier](https://docs.obspy.org/packages/autogen/obspy.core.event.base.ResourceIdentifier.html#obspy.core.event.base.ResourceIdentifier)__s. It seems like most of the referencing will be auto-generated. I'll try starting with a `ResourceIdentifier` for an event and filling in from there."
   ]
  },
  {
   "cell_type": "code",
   "execution_count": 2,
   "metadata": {},
   "outputs": [
    {
     "name": "stdout",
     "output_type": "stream",
     "text": [
      "Event:\t\n",
      "\n",
      " event/f55e54b9-d5aa-4b23-9116-5de95a7f8657\n"
     ]
    }
   ],
   "source": [
    "event = ev.Event()\n",
    "event.resource_id = ev.ResourceIdentifier(prefix='event', referred_object=event)\n",
    "print(event, event.resource_id)"
   ]
  },
  {
   "cell_type": "markdown",
   "metadata": {},
   "source": [
    "There's no laboraty event `EventType` so I'll use \"other event\" with \"known\" certainty."
   ]
  },
  {
   "cell_type": "code",
   "execution_count": 3,
   "metadata": {},
   "outputs": [
    {
     "ename": "ValueError",
     "evalue": "Setting attribute \"event_type\" failed. Value \"other ev\" could not be converted to type \"Enum([\"not existing\", \"not reported\", \"earthquake\", ..., \"rockslide\", \"meteorite\", \"volcanic eruption\"])\"",
     "output_type": "error",
     "traceback": [
      "\u001b[0;31m---------------------------------------------------------------------------\u001b[0m",
      "\u001b[0;31mValueError\u001b[0m                                Traceback (most recent call last)",
      "\u001b[0;32m<ipython-input-3-ff6ef148e393>\u001b[0m in \u001b[0;36m<module>\u001b[0;34m()\u001b[0m\n\u001b[1;32m      1\u001b[0m \u001b[0mevent\u001b[0m\u001b[0;34m.\u001b[0m\u001b[0mevent_type\u001b[0m \u001b[0;34m=\u001b[0m \u001b[0mev\u001b[0m\u001b[0;34m.\u001b[0m\u001b[0mheader\u001b[0m\u001b[0;34m.\u001b[0m\u001b[0mEventType\u001b[0m\u001b[0;34m(\u001b[0m\u001b[0menum\u001b[0m\u001b[0;34m=\u001b[0m\u001b[0;34m'other event'\u001b[0m\u001b[0;34m)\u001b[0m\u001b[0;34m\u001b[0m\u001b[0m\n\u001b[1;32m      2\u001b[0m \u001b[0mevent\u001b[0m\u001b[0;34m.\u001b[0m\u001b[0mevent_type_certainty\u001b[0m \u001b[0;34m=\u001b[0m \u001b[0mev\u001b[0m\u001b[0;34m.\u001b[0m\u001b[0mheader\u001b[0m\u001b[0;34m.\u001b[0m\u001b[0mEventTypeCertainty\u001b[0m\u001b[0;34m(\u001b[0m\u001b[0menum\u001b[0m\u001b[0;34m=\u001b[0m\u001b[0;34m'known'\u001b[0m\u001b[0;34m)\u001b[0m\u001b[0;34m\u001b[0m\u001b[0m\n\u001b[0;32m----> 3\u001b[0;31m \u001b[0mevent\u001b[0m\u001b[0;34m.\u001b[0m\u001b[0mevent_type\u001b[0m \u001b[0;34m=\u001b[0m \u001b[0;34m'other ev'\u001b[0m\u001b[0;34m\u001b[0m\u001b[0m\n\u001b[0m",
      "\u001b[0;32m~/anaconda3/envs/obspy/lib/python3.6/site-packages/obspy/core/event/base.py\u001b[0m in \u001b[0;36m__setattr__\u001b[0;34m(self, name, value)\u001b[0m\n\u001b[1;32m    378\u001b[0m                     \u001b[0mmsg\u001b[0m \u001b[0;34m+=\u001b[0m \u001b[0;34m'Value \"%s\" could not be converted to type \"%s\"'\u001b[0m \u001b[0;34m%\u001b[0m\u001b[0;31m \u001b[0m\u001b[0;31m\\\u001b[0m\u001b[0;34m\u001b[0m\u001b[0m\n\u001b[1;32m    379\u001b[0m                         \u001b[0;34m(\u001b[0m\u001b[0mstr\u001b[0m\u001b[0;34m(\u001b[0m\u001b[0mvalue\u001b[0m\u001b[0;34m)\u001b[0m\u001b[0;34m,\u001b[0m \u001b[0mstr\u001b[0m\u001b[0;34m(\u001b[0m\u001b[0mattrib_type\u001b[0m\u001b[0;34m)\u001b[0m\u001b[0;34m)\u001b[0m\u001b[0;34m\u001b[0m\u001b[0m\n\u001b[0;32m--> 380\u001b[0;31m                     \u001b[0;32mraise\u001b[0m \u001b[0mValueError\u001b[0m\u001b[0;34m(\u001b[0m\u001b[0mmsg\u001b[0m\u001b[0;34m)\u001b[0m\u001b[0;34m\u001b[0m\u001b[0m\n\u001b[0m\u001b[1;32m    381\u001b[0m                 \u001b[0mvalue\u001b[0m \u001b[0;34m=\u001b[0m \u001b[0mnew_value\u001b[0m\u001b[0;34m\u001b[0m\u001b[0m\n\u001b[1;32m    382\u001b[0m \u001b[0;34m\u001b[0m\u001b[0m\n",
      "\u001b[0;31mValueError\u001b[0m: Setting attribute \"event_type\" failed. Value \"other ev\" could not be converted to type \"Enum([\"not existing\", \"not reported\", \"earthquake\", ..., \"rockslide\", \"meteorite\", \"volcanic eruption\"])\""
     ]
    }
   ],
   "source": [
    "event.event_type = ev.header.EventType(enum='other event')\n",
    "event.event_type_certainty = ev.header.EventTypeCertainty(enum='known')\n",
    "event.event_type = 'other ev'"
   ]
  },
  {
   "cell_type": "markdown",
   "metadata": {},
   "source": [
    "I noticed that the value actually stored for `event.event_type` was just the string 'other event', so I was curious if I could just assign a string instead of an `EventType` object. The error from trying to set 'other ev' shows that the `Event.event_type` parameter automatically invokes the `EventType` class and checks that the assigned string is in the enumerated list. A simple string assignment works with allowed value and produces exactly the same stored value as the object assignment I initially used.\n",
    "\n",
    "The next parameter (alphabetically) is `Event.creation_info`. A `CreationInfo` object can contain an `agency_id`, an `agency_uri`, an `author`, an `author_uri`, a `creation_time`, and a `version`. The two uri fields both take (or create if called with just a string?) `ResourceIdentifier` objects. I'll fill in some dummy info for completeness of this exercise."
   ]
  },
  {
   "cell_type": "code",
   "execution_count": 4,
   "metadata": {},
   "outputs": [
    {
     "name": "stdout",
     "output_type": "stream",
     "text": [
      "CreationInfo(author='JP', creation_time=UTCDateTime(2018, 2, 7, 19, 11, 49, 520680))\n"
     ]
    }
   ],
   "source": [
    "event.creation_info = ev.base.CreationInfo(author='JP', creation_time=obspy.core.UTCDateTime.utcnow())\n",
    "print(event.creation_info)"
   ]
  },
  {
   "cell_type": "markdown",
   "metadata": {},
   "source": [
    "Next is `Event.event_descriptions`, which can contain a list of `EventDescription` objects. Each of these contains a piece of descriptive text and an optional `EventDescriptionType` such as \"earthquake name\". The types are an extra bit of standardized metadata that could make filtering for events easier. I've tried adding a description but there is no automatic processing getting triggered. The assignment seems to be verbatim and the `event_descriptions` key doesn't show up as part of the `Event` dictionary if I e.g. `print(event.keys())`. However, `print(event)` does include \"event_descriptions: 1 Elements\". Something to come back to."
   ]
  },
  {
   "cell_type": "code",
   "execution_count": 5,
   "metadata": {},
   "outputs": [
    {
     "name": "stdout",
     "output_type": "stream",
     "text": [
      "[EventDescription(text='a fake example event')]\n"
     ]
    }
   ],
   "source": [
    "event.event_descriptions = [ev.event.EventDescription(text='a fake example event')]\n",
    "print(event.event_descriptions)"
   ]
  },
  {
   "cell_type": "markdown",
   "metadata": {},
   "source": [
    "`Event.comments` is another list field, although `Comment` objects can have a `ResourceIdentifier` and `CreationInfo`. \n",
    "\n",
    "The remaining parameters for an `Event` are `picks`, `amplitudes`, `focal_mechanisms`, `origins`, `magnitudes`, and `station_magnitudes`. All of these parameters have their own classes and are able to contain quite a lot of inter-related information. Filling these in will make much more sense with sample data. For now, I have a very empty `Event` that should be enough to write a very empty QuakeML file to use in my ASDF trial.\n",
    "\n",
    "Recall above I found that `writeQuakeML` directed me to use the `Catalog.write` method instead. Here I put my dummy event into a dummy catalog and write to test_cat.xml, but in doing so I learned that `Event.write` would also have worked on its own."
   ]
  },
  {
   "cell_type": "code",
   "execution_count": 7,
   "metadata": {},
   "outputs": [],
   "source": [
    "catalog = ev.Catalog(creation_info=ev.base.CreationInfo(author='JP', creation_time=obspy.core.UTCDateTime.utcnow()))\n",
    "catalog.resource_id = ev.ResourceIdentifier(prefix='catalog', referred_object=catalog)\n",
    "catalog.append(event)\n",
    "catalog.write(\"test_cat.xml\", format=\"QUAKEML\")"
   ]
  },
  {
   "cell_type": "markdown",
   "metadata": {},
   "source": [
    "## Creating the ASDF file\n",
    "Now we have some dummy files we can use for an example of creating a new ASDF file."
   ]
  },
  {
   "cell_type": "code",
   "execution_count": 8,
   "metadata": {},
   "outputs": [
    {
     "name": "stdout",
     "output_type": "stream",
     "text": [
      "ASDF file [format version: 1.0.1]: 'test_asdf.h5' (96.0 bytes)\n",
      "\tContains 0 event(s)\n",
      "\tContains waveform data from 0 station(s).\n"
     ]
    },
    {
     "name": "stderr",
     "output_type": "stream",
     "text": [
      "/home/jes-lab/anaconda3/envs/obspy/lib/python3.6/site-packages/h5py/__init__.py:36: FutureWarning: Conversion of the second argument of issubdtype from `float` to `np.floating` is deprecated. In future, it will be treated as `np.float64 == np.dtype(float).type`.\n",
      "  from ._conv import register_converters as _register_converters\n"
     ]
    }
   ],
   "source": [
    "import pyasdf\n",
    "ds = pyasdf.ASDFDataSet(\"test_asdf.h5\", compression=\"gzip-3\")\n",
    "print(ds)"
   ]
  },
  {
   "cell_type": "markdown",
   "metadata": {},
   "source": [
    "We can add the event data from the QuakeML file. There's a salient note here in the ``pyasdf`` tutorial: \"Be aware that all operations will directly write to the file without an explicit _save/write_ step. This enables ``pyasdf`` to deal with arbitrarily big data sets.\""
   ]
  },
  {
   "cell_type": "code",
   "execution_count": 9,
   "metadata": {},
   "outputs": [
    {
     "name": "stdout",
     "output_type": "stream",
     "text": [
      "ASDF file [format version: 1.0.1]: 'test_asdf.h5' (6.0 KB)\n",
      "\tContains 1 event(s)\n",
      "\tContains waveform data from 0 station(s).\n"
     ]
    }
   ],
   "source": [
    "ds.add_quakeml(\"test_cat.xml\")\n",
    "print(ds)"
   ]
  },
  {
   "cell_type": "code",
   "execution_count": 11,
   "metadata": {},
   "outputs": [
    {
     "name": "stdout",
     "output_type": "stream",
     "text": [
      "Event:\t\n",
      "\n",
      "\t          resource_id: ResourceIdentifier(id=\"event/f55e54b9-d5aa-4b23-9116-5de95a7f8657\")\n",
      "\t           event_type: 'other event'\n",
      "\t event_type_certainty: 'known'\n",
      "\t        creation_info: CreationInfo(author='JP', creation_time=UTCDateTime(2018, 2, 7, 19, 11, 49, 520680))\n",
      "\t                 ---------\n",
      "\t   event_descriptions: 1 Elements\n",
      "Event:\t\n",
      "\n",
      "\t          resource_id: ResourceIdentifier(id=\"smi:local/event/f55e54b9-d5aa-4b23-9116-5de95a7f8657\")\n",
      "\t           event_type: 'other event'\n",
      "\t event_type_certainty: 'known'\n",
      "\t        creation_info: CreationInfo(author='JP', creation_time=UTCDateTime(2018, 2, 7, 19, 11, 49, 520680))\n",
      "\t                 ---------\n",
      "\t   event_descriptions: 1 Elements\n"
     ]
    }
   ],
   "source": [
    "print(event)\n",
    "print(ds.events[0])"
   ]
  },
  {
   "cell_type": "markdown",
   "metadata": {},
   "source": [
    "The event is now accessible through the ASDF dataset. In writing the QuakeML file, the resource_id was updated to a full URI in line with the QuakeML standard. Otherwise the `Event` object is unchanged.\n",
    "\n",
    "Let's add the staion info next, then figure out how to deal with non-standard waveform sources. I'll leave the tutorial's for loop that prints the progress when uploading many files."
   ]
  },
  {
   "cell_type": "code",
   "execution_count": 14,
   "metadata": {},
   "outputs": [
    {
     "name": "stdout",
     "output_type": "stream",
     "text": [
      "Adding file 1 of 1 ...\n",
      "ASDF file [format version: 1.0.1]: 'test_asdf.h5' (12.4 KB)\n",
      "\tContains 1 event(s)\n",
      "\tContains waveform data from 1 station(s).\n"
     ]
    }
   ],
   "source": [
    "import glob\n",
    "files = glob.glob(\"*station.xml\")\n",
    "for _i, filename in enumerate(files):\n",
    "    print(\"Adding file %i of %i ...\" % (_i + 1, len(files)))\n",
    "    ds.add_stationxml(filename)\n",
    "print(ds)"
   ]
  },
  {
   "cell_type": "markdown",
   "metadata": {},
   "source": [
    "Now I see why the tutorial adds waveforms before station info - the print statement assumes any station in the file must have waveform data. Let's see what some more specific prints produce. Remember that station info is split up into individual stations and grouped with waveforms."
   ]
  },
  {
   "cell_type": "code",
   "execution_count": 22,
   "metadata": {
    "scrolled": true
   },
   "outputs": [
    {
     "name": "stdout",
     "output_type": "stream",
     "text": [
      "{'XX.ABC': {'latitude': 1.0, 'longitude': 2.0, 'elevation_in_m': 345.0}}\n",
      "['XX.ABC']\n"
     ]
    },
    {
     "data": {
      "text/plain": [
       "Inventory created at 2018-02-06T21:46:15.414255Z\n",
       "\tCreated by: ObsPy 1.1.0\n",
       "\t\t    https://www.obspy.org\n",
       "\tSending institution: ObsPy-Tutorial\n",
       "\tContains:\n",
       "\t\tNetworks (1):\n",
       "\t\t\tXX\n",
       "\t\tStations (1):\n",
       "\t\t\tXX.ABC (First station)\n",
       "\t\tChannels (1):\n",
       "\t\t\tXX.ABC..HHZ"
      ]
     },
     "execution_count": 22,
     "metadata": {},
     "output_type": "execute_result"
    }
   ],
   "source": [
    "print(ds.get_all_coordinates())\n",
    "print(ds.waveforms.list())\n",
    "ds.waveforms.XX_ABC.StationXML"
   ]
  },
  {
   "cell_type": "markdown",
   "metadata": {},
   "source": [
    "### Adding an arbitrary waveform\n",
    "Waveforms are added to the ASDF dataset through ``ds.add_waveforms``. The module expects standard seismic data formats such as SAC and miniSEED, but it also accepts ObsPy __[Stream](https://docs.obspy.org/packages/autogen/obspy.core.stream.Stream.html#obspy.core.stream.Stream)__ objects. ``Stream``s are lists of __[Trace](https://docs.obspy.org/packages/autogen/obspy.core.trace.Trace.html#obspy.core.trace.Trace)__ objects, which contain data of a continuous series as an ndarray and header info. Let's make a random ``Trace`` and see what we can do with it."
   ]
  },
  {
   "cell_type": "code",
   "execution_count": null,
   "metadata": {},
   "outputs": [],
   "source": [
    "from numpy.random import randn\n",
    "from obspy import Stream, Trace\n",
    "\n",
    "wf1 = randn(1000)\n",
    "trace = Trace(data=wf1)"
   ]
  },
  {
   "cell_type": "code",
   "execution_count": 25,
   "metadata": {},
   "outputs": [
    {
     "name": "stdout",
     "output_type": "stream",
     "text": [
      "         network: \n",
      "         station: \n",
      "        location: \n",
      "         channel: \n",
      "       starttime: 1970-01-01T00:00:00.000000Z\n",
      "         endtime: 1970-01-01T00:16:39.000000Z\n",
      "   sampling_rate: 1.0\n",
      "           delta: 1.0\n",
      "            npts: 1000\n",
      "           calib: 1.0\n"
     ]
    }
   ],
   "source": [
    "print(trace.stats)"
   ]
  },
  {
   "cell_type": "markdown",
   "metadata": {},
   "source": [
    "Making a trace with nothing but a data array fills in some default values. What will ASDF do with a trace with no station info?"
   ]
  },
  {
   "cell_type": "code",
   "execution_count": 34,
   "metadata": {},
   "outputs": [
    {
     "name": "stderr",
     "output_type": "stream",
     "text": [
      "/home/jes-lab/anaconda3/envs/obspy/lib/python3.6/site-packages/pyasdf/asdf_data_set.py:51: ASDFWarning: Data './...__1970-01-01T00:00:00__1970-01-01T00:16:39__raw_record' already exists in file. Will not be added!\n",
      "  closure_warn(self, *args, **kwargs)\n"
     ]
    },
    {
     "name": "stdout",
     "output_type": "stream",
     "text": [
      "['...__1970-01-01T00:00:00__1970-01-01T00:16:39__raw_record', 'XX.ABC']\n"
     ]
    }
   ],
   "source": [
    "ds.add_waveforms(trace, \"raw_record\") # throws a warning and doesn't add if already present\n",
    "print(ds.waveforms.list())"
   ]
  },
  {
   "cell_type": "markdown",
   "metadata": {},
   "source": [
    "The auto-generated network and station name starts with three dots, which makes the waveform and associated info inaccessible through the `ds.waveform.NET_STAT` object. The `add_waveforms` method has no mechanism for forcing station info, so it has to come through the `Stream` or `Trace`. I'll try simply associating to the dummy station already in the dataset. A `Trace` has station info stored in its header parameter which takes either a `dict` or a helper `Stats` object. The `Trace.id` variable also replaces those three dots without filling in any real station info."
   ]
  },
  {
   "cell_type": "code",
   "execution_count": 67,
   "metadata": {},
   "outputs": [
    {
     "name": "stdout",
     "output_type": "stream",
     "text": [
      "XX.ABC..HHZ | 1970-01-01T00:00:00.000000Z - 1970-01-01T00:16:39.000000Z | 1.0 Hz, 1000 samples\n",
      "XX.ABC..HHZ | 1970-01-01T00:00:00.000000Z - 1970-01-01T00:00:00.000000Z | 1.0 Hz, 0 samples\n",
      "         network: XX\n",
      "         station: ABC\n",
      "        location: \n",
      "         channel: HHZ\n",
      "       starttime: 1970-01-01T00:00:00.000000Z\n",
      "         endtime: 1970-01-01T00:16:39.000000Z\n",
      "   sampling_rate: 1.0\n",
      "           delta: 1.0\n",
      "            npts: 1000\n",
      "           calib: 1.0          network: XX\n",
      "         station: ABC\n",
      "        location: \n",
      "         channel: HHZ\n",
      "       starttime: 1970-01-01T00:00:00.000000Z\n",
      "         endtime: 1970-01-01T00:00:00.000000Z\n",
      "   sampling_rate: 1.0\n",
      "           delta: 1.0\n",
      "            npts: 0\n",
      "           calib: 1.0\n"
     ]
    }
   ],
   "source": [
    "from obspy.core import Stats\n",
    "stats = Stats()\n",
    "stats.network = 'XX'\n",
    "stats.station = 'ABC'\n",
    "stats.channel = 'HHZ'\n",
    "trace2 = Trace(data=wf1, header=stats) # new trace with proper header\n",
    "trace.id = 'XX.ABC..HHZ' # put the station and channel info on with no other info\n",
    "print(trace, trace2, sep='\\n')\n",
    "print(trace.stats, trace2.stats)"
   ]
  },
  {
   "cell_type": "markdown",
   "metadata": {},
   "source": [
    "Now we see that the lazier `trace.id` method was actually a more foolproof choice. When I made a `Stats` object, I didn't realize that the default `npts` value of 0 would override the trace data. I'll change the channel on `trace2` and we can see what ASDF does with an empty waveform."
   ]
  },
  {
   "cell_type": "code",
   "execution_count": 70,
   "metadata": {},
   "outputs": [],
   "source": [
    "trace2.id = 'XX.ABC..HHR'\n",
    "ds.add_waveforms(trace,\"raw_record\")\n",
    "ds.add_waveforms(trace2,\"empty_record\")"
   ]
  },
  {
   "cell_type": "code",
   "execution_count": 72,
   "metadata": {},
   "outputs": [
    {
     "data": {
      "text/plain": [
       "['StationXML',\n",
       " 'XX.ABC..HHR__1970-01-01T00:00:00__1970-01-01T00:00:00__empty_record',\n",
       " 'XX.ABC..HHZ__1970-01-01T00:00:00__1970-01-01T00:16:39__raw_record']"
      ]
     },
     "execution_count": 72,
     "metadata": {},
     "output_type": "execute_result"
    }
   ],
   "source": [
    "ds.waveforms.XX_ABC.list()"
   ]
  },
  {
   "cell_type": "code",
   "execution_count": 80,
   "metadata": {},
   "outputs": [
    {
     "data": {
      "image/png": "[encoded data removed]",
      "text/plain": [
       "<matplotlib.figure.Figure at 0x7f48f4f78978>"
      ]
     },
     "metadata": {},
     "output_type": "display_data"
    }
   ],
   "source": [
    "import matplotlib.pyplot as plt\n",
    "ds.waveforms.XX_ABC.raw_record.plot()"
   ]
  },
  {
   "cell_type": "code",
   "execution_count": 89,
   "metadata": {},
   "outputs": [
    {
     "ename": "TypeError",
     "evalue": "Append only supports a single Trace object as an argument.",
     "output_type": "error",
     "traceback": [
      "\u001b[0;31m---------------------------------------------------------------------------\u001b[0m",
      "\u001b[0;31mTypeError\u001b[0m                                 Traceback (most recent call last)",
      "\u001b[0;32m<ipython-input-89-7c6747b3aa30>\u001b[0m in \u001b[0;36m<module>\u001b[0;34m()\u001b[0m\n\u001b[0;32m----> 1\u001b[0;31m \u001b[0mds\u001b[0m\u001b[0;34m.\u001b[0m\u001b[0mwaveforms\u001b[0m\u001b[0;34m.\u001b[0m\u001b[0mXX_ABC\u001b[0m\u001b[0;34m.\u001b[0m\u001b[0mempty_record\u001b[0m\u001b[0;34m.\u001b[0m\u001b[0mappend\u001b[0m\u001b[0;34m(\u001b[0m\u001b[0;34m[\u001b[0m\u001b[0mrandn\u001b[0m\u001b[0;34m(\u001b[0m\u001b[0;36m4\u001b[0m\u001b[0;34m)\u001b[0m\u001b[0;34m]\u001b[0m\u001b[0;34m)\u001b[0m\u001b[0;34m\u001b[0m\u001b[0m\n\u001b[0m\u001b[1;32m      2\u001b[0m \u001b[0mds\u001b[0m\u001b[0;34m.\u001b[0m\u001b[0mwaveforms\u001b[0m\u001b[0;34m.\u001b[0m\u001b[0mXX_ABC\u001b[0m\u001b[0;34m.\u001b[0m\u001b[0mempty_record\u001b[0m\u001b[0;34m.\u001b[0m\u001b[0mplot\u001b[0m\u001b[0;34m(\u001b[0m\u001b[0;34m)\u001b[0m\u001b[0;34m\u001b[0m\u001b[0m\n",
      "\u001b[0;32m~/anaconda3/envs/obspy/lib/python3.6/site-packages/obspy/core/stream.py\u001b[0m in \u001b[0;36mappend\u001b[0;34m(self, trace)\u001b[0m\n\u001b[1;32m    701\u001b[0m         \u001b[0;32melse\u001b[0m\u001b[0;34m:\u001b[0m\u001b[0;34m\u001b[0m\u001b[0m\n\u001b[1;32m    702\u001b[0m             \u001b[0mmsg\u001b[0m \u001b[0;34m=\u001b[0m \u001b[0;34m'Append only supports a single Trace object as an argument.'\u001b[0m\u001b[0;34m\u001b[0m\u001b[0m\n\u001b[0;32m--> 703\u001b[0;31m             \u001b[0;32mraise\u001b[0m \u001b[0mTypeError\u001b[0m\u001b[0;34m(\u001b[0m\u001b[0mmsg\u001b[0m\u001b[0;34m)\u001b[0m\u001b[0;34m\u001b[0m\u001b[0m\n\u001b[0m\u001b[1;32m    704\u001b[0m         \u001b[0;32mreturn\u001b[0m \u001b[0mself\u001b[0m\u001b[0;34m\u001b[0m\u001b[0m\n\u001b[1;32m    705\u001b[0m \u001b[0;34m\u001b[0m\u001b[0m\n",
      "\u001b[0;31mTypeError\u001b[0m: Append only supports a single Trace object as an argument."
     ]
    }
   ],
   "source": [
    "ds.waveforms.XX_ABC.empty_record.append([randn(4)])\n",
    "ds.waveforms.XX_ABC.empty_record.plot()"
   ]
  },
  {
   "cell_type": "markdown",
   "metadata": {},
   "source": [
    "I can only append a trace to a trace within an ASDF. That makes sense - it probably also checks the time stamps and sampling frequency to make sure the data is continuous.\n",
    "\n",
    "I've successfully added some non-standard seismic data as a waveform in the dataset, properly associated with a station and channel. Last for this section, let's see if I can associate an event to the waveform retroactively."
   ]
  },
  {
   "cell_type": "code",
   "execution_count": 90,
   "metadata": {
    "scrolled": true
   },
   "outputs": [
    {
     "name": "stderr",
     "output_type": "stream",
     "text": [
      "/home/jes-lab/anaconda3/envs/obspy/lib/python3.6/site-packages/pyasdf/asdf_data_set.py:51: ASDFWarning: Data 'XX.ABC/XX.ABC..HHZ__1970-01-01T00:00:00__1970-01-01T00:16:39__raw_record' already exists in file. Will not be added!\n",
      "  closure_warn(self, *args, **kwargs)\n"
     ]
    }
   ],
   "source": [
    "event = ds.events[0] # clarify to the post-QuakeML formatting event\n",
    "ds.add_waveforms(trace,\"raw_record\",event_id=event)"
   ]
  },
  {
   "cell_type": "code",
   "execution_count": 95,
   "metadata": {},
   "outputs": [],
   "source": [
    "ds.waveforms.XX_ABC.raw_record.event_id = event"
   ]
  },
  {
   "cell_type": "code",
   "execution_count": 102,
   "metadata": {},
   "outputs": [
    {
     "ename": "AttributeError",
     "evalue": "'Stream' object has no attribute 'event_id'",
     "output_type": "error",
     "traceback": [
      "\u001b[0;31m---------------------------------------------------------------------------\u001b[0m",
      "\u001b[0;31mAttributeError\u001b[0m                            Traceback (most recent call last)",
      "\u001b[0;32m<ipython-input-102-f245233ad65c>\u001b[0m in \u001b[0;36m<module>\u001b[0;34m()\u001b[0m\n\u001b[0;32m----> 1\u001b[0;31m \u001b[0mds\u001b[0m\u001b[0;34m.\u001b[0m\u001b[0mwaveforms\u001b[0m\u001b[0;34m.\u001b[0m\u001b[0mXX_ABC\u001b[0m\u001b[0;34m.\u001b[0m\u001b[0mraw_record\u001b[0m\u001b[0;34m.\u001b[0m\u001b[0mevent_id\u001b[0m\u001b[0;34m\u001b[0m\u001b[0m\n\u001b[0m",
      "\u001b[0;31mAttributeError\u001b[0m: 'Stream' object has no attribute 'event_id'"
     ]
    }
   ],
   "source": [
    "ds.waveforms.XX_ABC.raw_record.event_id"
   ]
  },
  {
   "cell_type": "markdown",
   "metadata": {},
   "source": [
    "I can't find a method that adds an event_id, or other similar parameters, after the waveform has been added. The `add_waveforms` method also doesn't overwrite an existing trace if called again, it just throws a warning. There seems to be no 'easy' way to add event or other info to a waveform. Probably I would have to pull the trace then re-add it with the event info."
   ]
  },
  {
   "cell_type": "code",
   "execution_count": 106,
   "metadata": {},
   "outputs": [
    {
     "data": {
      "text/plain": [
       "['StationXML',\n",
       " 'XX.ABC..HHR__1970-01-01T00:00:00__1970-01-01T00:00:00__empty_record']"
      ]
     },
     "execution_count": 106,
     "metadata": {},
     "output_type": "execute_result"
    }
   ],
   "source": [
    "del(trace)\n",
    "trace = ds.waveforms.XX_ABC.raw_record[0]\n",
    "del(ds.waveforms.XX_ABC.raw_record)\n",
    "ds.waveforms.XX_ABC.list()"
   ]
  },
  {
   "cell_type": "code",
   "execution_count": 107,
   "metadata": {},
   "outputs": [
    {
     "data": {
      "text/plain": [
       "['StationXML',\n",
       " 'XX.ABC..HHR__1970-01-01T00:00:00__1970-01-01T00:00:00__empty_record',\n",
       " 'XX.ABC..HHZ__1970-01-01T00:00:00__1970-01-01T00:16:39__raw_record']"
      ]
     },
     "execution_count": 107,
     "metadata": {},
     "output_type": "execute_result"
    }
   ],
   "source": [
    "ds.add_waveforms(trace,\"raw_record\",event_id=event)\n",
    "ds.waveforms.XX_ABC.list()"
   ]
  },
  {
   "cell_type": "markdown",
   "metadata": {},
   "source": [
    "The pyasdf tutorial shows us how to get info about associated events:"
   ]
  },
  {
   "cell_type": "code",
   "execution_count": 114,
   "metadata": {},
   "outputs": [
    {
     "name": "stdout",
     "output_type": "stream",
     "text": [
      "Event:\t\n",
      "\n",
      "\t          resource_id: ResourceIdentifier(id=\"event/f55e54b9-d5aa-4b23-9116-5de95a7f8657\")\n",
      "\t           event_type: 'other event'\n",
      "\t event_type_certainty: 'known'\n",
      "\t        creation_info: CreationInfo(author='JP', creation_time=UTCDateTime(2018, 2, 7, 19, 11, 49, 520680))\n",
      "\t                 ---------\n",
      "\t   event_descriptions: 1 Elements\n"
     ]
    }
   ],
   "source": [
    "cat = ds.events # The events have to be in memory for the reference to work\n",
    "print(ds.waveforms.XX_ABC.raw_record[0].stats.asdf.event_ids[0].get_referred_object())"
   ]
  },
  {
   "cell_type": "markdown",
   "metadata": {},
   "source": [
    "That worked but boy is it messy. I'll have to mess around with this more and get used to the framework.\n",
    "\n",
    "### Auxiliary Data\n",
    "The last (creation) section of the `pyasdf` tutorial is a brief intro to _auxiliary data_. The important note here is: \"each sub-community is supposed to come up with conventions on how to use this.\" The lab EQ community likely has some good uses for this section, including but not limited to some of the touted uses like other sensor data and spectral representations."
   ]
  },
  {
   "cell_type": "markdown",
   "metadata": {},
   "source": [
    "## Conclusions\n",
    "I used this notebook to document the processes I figured out for producing all of the necessary components of an ASDF file. Hopefully it serves as a quick reference while I (or you) work on extending these basic applications to actual laboratory data."
   ]
  }
 ],
 "metadata": {
  "kernelspec": {
   "display_name": "Python 3",
   "language": "python",
   "name": "python3"
  },
  "language_info": {
   "codemirror_mode": {
    "name": "ipython",
    "version": 3
   },
   "file_extension": ".py",
   "mimetype": "text/x-python",
   "name": "python",
   "nbconvert_exporter": "python",
   "pygments_lexer": "ipython3",
   "version": "3.6.4"
  }
 },
 "nbformat": 4,
 "nbformat_minor": 2
}
