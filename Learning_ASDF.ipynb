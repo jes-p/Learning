{
 "cells": [
  {
   "cell_type": "markdown",
   "metadata": {},
   "source": [
    "# ASDF from scratch\n",
    "The tutorial for `pyasdf` at http://seismicdata.github.io/pyasdf/tutorial.html is a great starting point for general seismic analysis, i.e. assuming you have QuakeML and StationXML files ready to be assimilated into ASDF. My lab EQ data is all raw and messy, so I'll need to start out by creating these sub-structures."
   ]
  },
  {
   "cell_type": "markdown",
   "metadata": {},
   "source": [
    "# StationXML for the lab\n",
    "I'll follow this ObsPy tutorial on __[creating a StationXML file from scratch](https://docs.obspy.org/tutorial/code_snippets/stationxml_file_from_scratch.html)__.\n",
    "\n",
    "The lab sensor network is named the Glaser Lab Nano-Network (GLNN or GL). "
   ]
  }
 ],
 "metadata": {
  "kernelspec": {
   "display_name": "Python 3",
   "language": "python",
   "name": "python3"
  },
  "language_info": {
   "codemirror_mode": {
    "name": "ipython",
    "version": 3
   },
   "file_extension": ".py",
   "mimetype": "text/x-python",
   "name": "python",
   "nbconvert_exporter": "python",
   "pygments_lexer": "ipython3",
   "version": "3.6.3"
  }
 },
 "nbformat": 4,
 "nbformat_minor": 2
}
